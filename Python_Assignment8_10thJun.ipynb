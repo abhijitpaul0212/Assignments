{
 "cells": [
  {
   "attachments": {},
   "cell_type": "markdown",
   "metadata": {},
   "source": [
    "1. In Python, what is the difference between a built-in function and a user-defined function? Provide an example of each."
   ]
  },
  {
   "attachments": {},
   "cell_type": "markdown",
   "metadata": {},
   "source": [
    "**Built-in functions** are the ones which comes by default with Python interpreter. They are the pre-defined functions \n",
    "and user can use them directly in their program.\n",
    "e.g. len(), print(), int(), str(), etc.\n",
    "\n",
    "**User-defined functions** are the ones which are created by user to solve some specific need which cannot be done with the in-build functions. This are created using 'def' keyword followed by the function name.\n",
    "e.g. "
   ]
  },
  {
   "cell_type": "code",
   "execution_count": 2,
   "metadata": {},
   "outputs": [
    {
     "data": {
      "text/plain": [
       "8"
      ]
     },
     "execution_count": 2,
     "metadata": {},
     "output_type": "execute_result"
    }
   ],
   "source": [
    "def add_numbers(a,b):  #function creation\n",
    "    return a+b\n",
    "\n",
    "add_numbers(3,5)  # Calling the function passing two arguments"
   ]
  },
  {
   "attachments": {},
   "cell_type": "markdown",
   "metadata": {},
   "source": [
    "2. How can you pass arguments to a function in Python? Explain the difference between positional arguments and keyword arguments."
   ]
  },
  {
   "attachments": {},
   "cell_type": "markdown",
   "metadata": {},
   "source": [
    "To pass arguments in a function, the function must declare it while getting created. Then while calling the function, \n",
    "we can pass the arguments in paranthesis.\n",
    "\n",
    "**Positional Arguments** --> are arguments that need to be included in the proper position or order.\n",
    "e.g. The first positional argument always needs to be listed first when the function is called. \n",
    "The second positional argument needs to be listed second and the third positional argument listed third, etc.\n",
    "\n",
    "**Keyword Arguments** --> are arguments that are passed to a function preceded by a keyword and an equals sign in the form \n",
    "of key-value pair, where the value is the actual value you want to pass into the function.\n",
    "e.g. function_name(keyword=value)\n",
    "\n",
    "\n",
    "We must also keep in mind that keyword arguments are passed to functions after any required positional arguments and not vice-versa."
   ]
  },
  {
   "attachments": {},
   "cell_type": "markdown",
   "metadata": {},
   "source": [
    "3. What is the purpose of the return statement in a function? Can a function have multiple return statements? Explain with an example."
   ]
  },
  {
   "attachments": {},
   "cell_type": "markdown",
   "metadata": {},
   "source": [
    "**Return** statement denotes that the function has to return back something back to the program from where the function was called. By default a function returns 'None' if return statement is explicitly not provided.\n",
    "\n",
    "Yes, a function can have multiple return statements.\n",
    "\n",
    "\n"
   ]
  },
  {
   "cell_type": "raw",
   "metadata": {},
   "source": [
    "e.g.\n",
    "def calculate(a,b, compute='sum'):\n",
    "    if compute=='sum':\n",
    "        return a+b\n",
    "    elif compute == 'substract':\n",
    "        return a-b\n",
    "    elif compute == 'multiply':\n",
    "        return a*b\n",
    "    elif compute == 'divide':\n",
    "        return a/b\n"
   ]
  },
  {
   "attachments": {},
   "cell_type": "markdown",
   "metadata": {},
   "source": [
    "4. What are lambda functions in Python? How are they different from regular functions? Provide an example where a lambda function can be useful."
   ]
  },
  {
   "attachments": {},
   "cell_type": "markdown",
   "metadata": {},
   "source": [
    "**Lambda** function is a small anonymous function which can take any number of arguments, but can only have one expression.\n",
    "e.g. lambda argument(s) : expression \n",
    "\n",
    "* Regular function can have more than one expressions whereas Lambda function can have only one.\n",
    "* Regular function has a function name, whereas Lambda function doesnt.\n",
    "\n",
    "Lambda function can be useful when we need to create a function which has only one expression irrespective of number of arguments.\n",
    "\n",
    "e.g. \n",
    "greet = lambda : print(\"Hello World\")\n",
    "\n",
    "greet() --> Output: Hello World\n",
    "\n",
    "\n",
    "e.g. \n",
    "square = lambda x: x**2\n",
    "\n",
    "print(square(4))  -> 16\n",
    "\n",
    "print(square(10)) -> 100"
   ]
  },
  {
   "attachments": {},
   "cell_type": "markdown",
   "metadata": {},
   "source": [
    "5. How does the concept of \"scope\" apply to functions in Python? Explain the difference between local scope and global scope."
   ]
  },
  {
   "attachments": {},
   "cell_type": "markdown",
   "metadata": {},
   "source": [
    "**Scope** defines the accessibility of any object created in Python.\n",
    "There are altogether 4 types of scopes in Python i.e.\n",
    "- Local\n",
    "- Enclosed\n",
    "- Global \n",
    "- Built-in\n",
    "\n",
    "**Local Scope** --> Variables declared within a function body are within the local scope of the function.\n",
    "\n",
    "**Global Scope** --> Variables declared outside a function, in the main python program is within the global scope and can be accessed from anywhere in the program i.e inside and outside a function."
   ]
  },
  {
   "attachments": {},
   "cell_type": "markdown",
   "metadata": {},
   "source": [
    "6. How can you use the \"return\" statement in a Python function to return multiple values?"
   ]
  },
  {
   "cell_type": "code",
   "execution_count": null,
   "metadata": {},
   "outputs": [],
   "source": [
    "def calculate(a,b, compute='sum'):\n",
    "    if compute=='sum':\n",
    "        return a+b\n",
    "    elif compute == 'substract':\n",
    "        return a-b\n",
    "    elif compute == 'multiply':\n",
    "        return a*b\n",
    "    elif compute == 'divide':\n",
    "        return a/b\n"
   ]
  },
  {
   "attachments": {},
   "cell_type": "markdown",
   "metadata": {},
   "source": [
    "7. What is the difference between the \"pass by value\" and \"pass by reference\" concepts when it\n",
    "comes to function arguments in Python?"
   ]
  },
  {
   "attachments": {},
   "cell_type": "markdown",
   "metadata": {},
   "source": [
    "**Pass By Value**: When we are passing argument to a function a copy of the argument is created, and any changes that are\n",
    "made to the value of that argument within the function will only change the value of the copy created and it wouldn't affect the original value of the argument."
   ]
  },
  {
   "cell_type": "code",
   "execution_count": 7,
   "metadata": {},
   "outputs": [
    {
     "name": "stdout",
     "output_type": "stream",
     "text": [
      "Before function call : 100\n",
      "Inside function call : 200\n",
      "After function call : 100\n"
     ]
    }
   ],
   "source": [
    "def func(a: int):  \n",
    "    \"\"\" since argument is passed by value, a copy of the argument is created \n",
    "        hence any changes made to the value of the argument would not impact the original copy of it\n",
    "        kept outside the function.\n",
    "        So the changes will be visible only within the function and and not globally\n",
    "    \"\"\"\n",
    "    \n",
    "    a+=100\n",
    "    print(f\"Inside function call : {a}\")\n",
    "\n",
    "a=100\n",
    "print(f\"Before function call : {a}\")\n",
    "func(a)  # here, the argument a is passed by value\n",
    "print(f\"After function call : {a}\")"
   ]
  },
  {
   "attachments": {},
   "cell_type": "markdown",
   "metadata": {},
   "source": [
    "**Pass By Reference**: When we are passing argument to a function, a reference to the original argument is passed, and any changes that are made to the argument within the function will have a direct effect on the variable it refers to outside the function too."
   ]
  },
  {
   "cell_type": "code",
   "execution_count": 8,
   "metadata": {},
   "outputs": [
    {
     "name": "stdout",
     "output_type": "stream",
     "text": [
      "Before function call : ['A']\n",
      "Inside function call : ['A', 'B']\n",
      "After function call : ['A', 'B']\n"
     ]
    }
   ],
   "source": [
    "def func(a: list):  \n",
    "    \"\"\" since argument is passed by reference, hence any changes made to the value of the argument\n",
    "        would impact the original value to which it refers to.\n",
    "        So the changes will be visible both within the function and globally\n",
    "    \"\"\"\n",
    "    \n",
    "    a.append(\"B\")\n",
    "    print(f\"Inside function call : {a}\")\n",
    "\n",
    "a=[\"A\"]\n",
    "print(f\"Before function call : {a}\")\n",
    "func(a)  # here, the reference of the variable is passed as argument\n",
    "print(f\"After function call : {a}\")"
   ]
  },
  {
   "attachments": {},
   "cell_type": "markdown",
   "metadata": {},
   "source": [
    "8. Create a function that can intake integer or decimal value and do following operations:\n",
    "* Logarithmic function (log x)\n",
    "* Exponential function (exp(x))\n",
    "* Power function with base 2 (2x)\n",
    "* Square root"
   ]
  },
  {
   "cell_type": "code",
   "execution_count": 16,
   "metadata": {},
   "outputs": [
    {
     "name": "stdout",
     "output_type": "stream",
     "text": [
      "1.0986\n",
      "20.0855\n",
      "27.0\n",
      "3.0\n"
     ]
    }
   ],
   "source": [
    "import math\n",
    "def calculate(*num, operation='log'):\n",
    "    computed_value = None\n",
    "    if operation == 'log':\n",
    "        computed_value = math.log(num[0])\n",
    "    elif operation == 'exp':\n",
    "        computed_value = math.exp(num[0])\n",
    "    elif operation == 'pow':\n",
    "        computed_value = math.pow(num[0], num[1])\n",
    "    elif operation == 'sqrt':\n",
    "        computed_value = math.sqrt(num[0])\n",
    "    return round(computed_value, 4)\n",
    "\n",
    "print(calculate(3, operation='log'))\n",
    "print(calculate(3, operation='exp'))\n",
    "print(calculate(3, 3, operation='pow'))\n",
    "print(calculate(9, operation='sqrt'))"
   ]
  },
  {
   "attachments": {},
   "cell_type": "markdown",
   "metadata": {},
   "source": [
    "9. Create a function that takes a full name as an argument and returns first name and last name."
   ]
  },
  {
   "cell_type": "code",
   "execution_count": 9,
   "metadata": {},
   "outputs": [
    {
     "name": "stdout",
     "output_type": "stream",
     "text": [
      "First Name: Abhijit \n",
      "Second Name: Paul\n"
     ]
    }
   ],
   "source": [
    "def name_seperator(full_name: str) -> tuple:\n",
    "    name = full_name.split(\" \")\n",
    "    return name[0], name[1]\n",
    "first_name, second_name = name_seperator(\"Abhijit Paul\")\n",
    "print(f\"First Name: {first_name} \\nSecond Name: {second_name}\")"
   ]
  }
 ],
 "metadata": {
  "kernelspec": {
   "display_name": "Python 3",
   "language": "python",
   "name": "python3"
  },
  "language_info": {
   "codemirror_mode": {
    "name": "ipython",
    "version": 3
   },
   "file_extension": ".py",
   "mimetype": "text/x-python",
   "name": "python",
   "nbconvert_exporter": "python",
   "pygments_lexer": "ipython3",
   "version": "3.8.16"
  },
  "orig_nbformat": 4
 },
 "nbformat": 4,
 "nbformat_minor": 2
}
