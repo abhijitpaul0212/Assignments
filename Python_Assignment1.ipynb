{
 "cells": [
  {
   "attachments": {},
   "cell_type": "markdown",
   "metadata": {},
   "source": [
    "1. In the below elements which of them are values or an expression? eg:- values can be\n",
    "integer or string and expressions will be mathematical operators."
   ]
  },
  {
   "cell_type": "code",
   "execution_count": null,
   "metadata": {},
   "outputs": [
    {
     "data": {
      "text/plain": [
       "\"\\n*  --> Expression\\n'hello'  --> Value\\n-87.8  --> Value\\n-  --> Expression\\n/  --> Expression\\n+  --> Expression\\n6  --> Value\\n\""
      ]
     },
     "execution_count": 1,
     "metadata": {},
     "output_type": "execute_result"
    }
   ],
   "source": [
    "\"\"\"\n",
    "*  --> Expression\n",
    "'hello'  --> Value\n",
    "-87.8  --> Value\n",
    "-  --> Expression\n",
    "/  --> Expression\n",
    "+  --> Expression\n",
    "6  --> Value\n",
    "\"\"\"\n",
    "\n"
   ]
  },
  {
   "attachments": {},
   "cell_type": "markdown",
   "metadata": {},
   "source": [
    "2. What is the difference between string and variable?\n",
    "\n",
    "String:\n",
    "* String is one of several data type in Python Programming Language.\n",
    "* String is single or collection of characters.\n",
    "* It can be a alphanumeric or numeric data enclosed within single or double quotes. e.g. \"Apple\", \"ABC123\"\n",
    "\n",
    "\n",
    "Variable:\n",
    "* Variable is the identifier of an entity in Python programming language\n",
    "* It can be defined as a named location used to store data in memory\n",
    "* Variable can hold datatypes, classes, functions, etc.\n",
    "* It is declared by writing variable name with an assignment operator (=) assigning value to it. e.g. variable1 = \"iPhone\""
   ]
  },
  {
   "attachments": {},
   "cell_type": "markdown",
   "metadata": {},
   "source": [
    "3. Describe three different data types.\n",
    "\n",
    "List:\n",
    "* List is an ordered collection of heterogenous data\n",
    "* It is mutuable by nature\n",
    "* List is declared by using [] \n",
    "* e.g. fruits = [\"apple, \"guava\", \"strawberry\"]\n",
    "\n",
    "Tuple:\n",
    "* Tuple is an ordered collection of heterogenous data\n",
    "* It is immutuable by nature\n",
    "* Tuple is declared by using ()\n",
    "* e.g. fruits = (\"apple, \"guava\", \"strawberry\")\n",
    "\n",
    "Dictionary:\n",
    "* Dictionary is an unordered collection of heterogenous data\n",
    "* Datas are stored in the form of 'key-value' pair\n",
    "* Keys are immutable & Values are mutuable by nature.\n",
    "* Dictionary is declared by using {}\n",
    "* e.g. students = {'name': 'Abhijit', 'roll_no': '12ENGG01', 'stream': 'B.Tech'}"
   ]
  },
  {
   "attachments": {},
   "cell_type": "markdown",
   "metadata": {},
   "source": [
    "4. What is an expression made up of? What do all expressions do?"
   ]
  },
  {
   "attachments": {},
   "cell_type": "markdown",
   "metadata": {},
   "source": [
    "Expressions are made up of operators and operands\n",
    "\n",
    "Expressions: \n",
    "* It is interpreted to produce some output\n",
    "* Expressions are evalated as per the precedences of the operators"
   ]
  },
  {
   "attachments": {},
   "cell_type": "markdown",
   "metadata": {},
   "source": [
    "5. This assignment statements, like spam = 10. What is the difference between an\n",
    "expression and a statement?"
   ]
  },
  {
   "attachments": {},
   "cell_type": "markdown",
   "metadata": {},
   "source": [
    "**Expression**\n",
    "* Expression in Python produces some value or result after being interpreted by the Python interpreter.\n",
    "* Expressions are evaluated and used to compute or write values\n",
    "\n",
    "**Statement**\n",
    "* Statement in Python is used for creating variables or for displaying values. \n",
    "* It is not evaluated for some results.\n"
   ]
  },
  {
   "attachments": {},
   "cell_type": "markdown",
   "metadata": {},
   "source": [
    "6. After running the following code, what does the variable bacon contain?\n",
    "\n",
    "bacon = 22\n",
    "\n",
    "bacon + 1"
   ]
  },
  {
   "cell_type": "code",
   "execution_count": null,
   "metadata": {},
   "outputs": [
    {
     "name": "stdout",
     "output_type": "stream",
     "text": [
      "22\n"
     ]
    }
   ],
   "source": [
    "bacon = 22\n",
    "bacon + 1\n",
    "\n",
    "print(bacon) \n",
    "# Explanation: Variable bacon contains 22. Though we have added 1 to bacon which contains 22, \n",
    "# its not stored to bacon variable, so that expression is unused."
   ]
  },
  {
   "attachments": {},
   "cell_type": "markdown",
   "metadata": {},
   "source": [
    "7. What should the values of the following two terms be?\n",
    "\n",
    "&#39;spam&#39; + &#39;spamspam&#39;\n",
    "\n",
    "&#39;spam&#39; * 3"
   ]
  },
  {
   "cell_type": "code",
   "execution_count": null,
   "metadata": {},
   "outputs": [
    {
     "data": {
      "text/plain": [
       "'spamspamspam'"
      ]
     },
     "execution_count": 3,
     "metadata": {},
     "output_type": "execute_result"
    }
   ],
   "source": [
    "'spam' + 'spamspam' # 'spamspamspam'\n",
    "'spam' * 3  # 'spamspamspam'"
   ]
  },
  {
   "attachments": {},
   "cell_type": "markdown",
   "metadata": {},
   "source": [
    "8. Why is eggs a valid variable name while 100 is invalid?\n",
    "\n",
    "* As per the guidlines of valid variable name, first letter can be an alphabet & undescore only and cannot be a number or special character.\n",
    "* Hence eggs is a valid variable name & 100 is an invalid one"
   ]
  },
  {
   "attachments": {},
   "cell_type": "markdown",
   "metadata": {},
   "source": [
    "9. What three functions can be used to get the integer, floating-point number, or string\n",
    "version of a value?\n",
    "\n",
    "* int() is used to get the integer version of a value\n",
    "* float() is used to get the floating-point number version of a value\n",
    "* str() is used to get the string version of a value"
   ]
  },
  {
   "attachments": {},
   "cell_type": "markdown",
   "metadata": {},
   "source": [
    "10. Why does this expression cause an error? How can you fix it?\n",
    "\n",
    "'I have eaten ' + 99 + ' burritos.'"
   ]
  },
  {
   "attachments": {},
   "cell_type": "markdown",
   "metadata": {},
   "source": [
    "Explanation: '+' sign can only concatenate \"str\" to \"str\" & not \"int\" to \"str\""
   ]
  },
  {
   "cell_type": "code",
   "execution_count": 7,
   "metadata": {},
   "outputs": [
    {
     "data": {
      "text/plain": [
       "0"
      ]
     },
     "execution_count": 7,
     "metadata": {},
     "output_type": "execute_result"
    }
   ],
   "source": [
    "2000 % 400"
   ]
  },
  {
   "cell_type": "code",
   "execution_count": null,
   "metadata": {},
   "outputs": [],
   "source": []
  }
 ],
 "metadata": {
  "kernelspec": {
   "display_name": "Python 3",
   "language": "python",
   "name": "python3"
  },
  "language_info": {
   "codemirror_mode": {
    "name": "ipython",
    "version": 3
   },
   "file_extension": ".py",
   "mimetype": "text/x-python",
   "name": "python",
   "nbconvert_exporter": "python",
   "pygments_lexer": "ipython3",
   "version": "3.9.16"
  },
  "orig_nbformat": 4
 },
 "nbformat": 4,
 "nbformat_minor": 2
}
