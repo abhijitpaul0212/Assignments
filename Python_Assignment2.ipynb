{
 "cells": [
  {
   "attachments": {},
   "cell_type": "markdown",
   "metadata": {},
   "source": [
    "1. What are the two values of the Boolean data type? How do you write them?"
   ]
  },
  {
   "attachments": {},
   "cell_type": "markdown",
   "metadata": {},
   "source": [
    "Explanation:  \n",
    "* Two values of Boolean datatype are True & False\n",
    "* Its written without any double quotes and first letter in capitals: True, False\n",
    "\n"
   ]
  },
  {
   "attachments": {},
   "cell_type": "markdown",
   "metadata": {},
   "source": [
    "2. What are the three different types of Boolean operators?"
   ]
  },
  {
   "attachments": {},
   "cell_type": "markdown",
   "metadata": {},
   "source": [
    "Explanation: Python has three Logical boolean operators\n",
    "1. and\n",
    "2. or\n",
    "3. not"
   ]
  },
  {
   "attachments": {},
   "cell_type": "markdown",
   "metadata": {},
   "source": [
    "3. Make a list of each Boolean operator's truth tables (i.e. every possible combination of Boolean values for the operator and what it evaluate )."
   ]
  },
  {
   "attachments": {},
   "cell_type": "markdown",
   "metadata": {},
   "source": [
    "| 1 | 2 | 3 | 4 | \n",
    "|:-------------:|:--------------:|:--------------:|:--------------:|\n",
    "| True | And | True | True |\n",
    "| True | And | False | False |\n",
    "| False | And | True | False |\n",
    "| False | And | False | False |\n",
    "| True | Or | True | True |\n",
    "| True | Or | False | True |\n",
    "| False | Or | True | True |\n",
    "| False | Or | False | False |\n",
    "| | Not | True | False |\n",
    "| | Not | False | True |"
   ]
  },
  {
   "attachments": {},
   "cell_type": "markdown",
   "metadata": {},
   "source": [
    "4. What are the values of the following expressions?\n",
    "* (5 > 4) and (3 == 5)\n",
    "* not (5 > 4)\n",
    "* (5 > 4) or (3 == 5)\n",
    "* not ((5 > 4) or (3 == 5))\n",
    "* (True and True) and (True == False)\n",
    "* (not False) or (not True)"
   ]
  },
  {
   "cell_type": "code",
   "execution_count": 1,
   "metadata": {},
   "outputs": [
    {
     "name": "stdout",
     "output_type": "stream",
     "text": [
      "False\n",
      "False\n",
      "True\n",
      "False\n",
      "False\n",
      "True\n"
     ]
    }
   ],
   "source": [
    "print((5 > 4) and (3 == 5))  # False\n",
    "print(not (5 > 4))  #False\n",
    "print((5 > 4) or (3 == 5))  # True\n",
    "print(not ((5 > 4) or (3 == 5)))  #False\n",
    "print((True and True) and (True == False))  #False\n",
    "print((not False) or (not True))  #True"
   ]
  },
  {
   "attachments": {},
   "cell_type": "markdown",
   "metadata": {},
   "source": [
    "5. What are the six comparison operators?"
   ]
  },
  {
   "cell_type": "code",
   "execution_count": 2,
   "metadata": {},
   "outputs": [
    {
     "name": "stdout",
     "output_type": "stream",
     "text": [
      "True\n",
      "True\n",
      "True\n",
      "True\n",
      "True\n",
      "True\n"
     ]
    }
   ],
   "source": [
    "#1. less than (<)\n",
    "print(2 < 5)  # True\n",
    "\n",
    "#2. less than equal to (<=)\n",
    "print(2 <= 5)  # True\n",
    "\n",
    "#3. greater than (>)\n",
    "print(10 > 5)  # True\n",
    "\n",
    "#4. greater than equal to (>=)\n",
    "print(5 >= 5)  # True\n",
    "\n",
    "#5. equal to (==)\n",
    "print(2 == 2)  # True\n",
    "\n",
    "#6. not equal to (!=)\n",
    "print(2 != 5)  # True\n",
    "\n"
   ]
  },
  {
   "attachments": {},
   "cell_type": "markdown",
   "metadata": {},
   "source": [
    "6. How do you tell the difference between the equal to and assignment operators?Describe a condition and when you would use one."
   ]
  },
  {
   "cell_type": "code",
   "execution_count": 3,
   "metadata": {},
   "outputs": [
    {
     "name": "stdout",
     "output_type": "stream",
     "text": [
      "x is equals to y\n"
     ]
    }
   ],
   "source": [
    "# Explanation\n",
    "\n",
    "# EqualTo operator (==) is a comparison operator and used to test equality between the left operand and right operand\n",
    "\n",
    "# Assignment operator (=) is an assignment operator and is used to assign value to the left operand i.e variable depending on the value of operand available on the right side.\n",
    "\n",
    "x = 10  # Assignment operator\n",
    "y = 10\n",
    "if x == y:  # EqualsTo operator\n",
    "    print(\"x is equals to y\")\n",
    "else:\n",
    "    print(\"x is not equals to y\")\n"
   ]
  },
  {
   "attachments": {},
   "cell_type": "markdown",
   "metadata": {},
   "source": [
    "7. Identify the three blocks in this code:\n",
    "\n",
    "spam = 0\n",
    "\n",
    "if spam == 10:\n",
    "\n",
    "print('eggs')\n",
    "\n",
    "if spam > 5:\n",
    "\n",
    "print('bacon')\n",
    "\n",
    "else:\n",
    "\n",
    "print('ham')\n",
    "\n",
    "print('spam')\n",
    "\n",
    "print('spam')"
   ]
  },
  {
   "cell_type": "code",
   "execution_count": 4,
   "metadata": {},
   "outputs": [
    {
     "name": "stdout",
     "output_type": "stream",
     "text": [
      "ham\n",
      "spam\n",
      "spam\n"
     ]
    }
   ],
   "source": [
    "spam = 0\n",
    "\n",
    "if spam == 10:\n",
    "\n",
    "    print('eggs') # First block\n",
    "\n",
    "if spam > 5:\n",
    "\n",
    "    print('bacon') # Second block\n",
    "\n",
    "else:\n",
    "\n",
    "    print('ham') # Third block\n",
    "\n",
    "print('spam')\n",
    "\n",
    "print('spam')"
   ]
  },
  {
   "attachments": {},
   "cell_type": "markdown",
   "metadata": {},
   "source": [
    "8. Write code that prints Hello if 1 is stored in spam, prints Howdy if 2 is stored in spam, and prints Greetings! if anything else is stored in spam."
   ]
  },
  {
   "cell_type": "code",
   "execution_count": 5,
   "metadata": {},
   "outputs": [
    {
     "name": "stdout",
     "output_type": "stream",
     "text": [
      "Hello\n"
     ]
    }
   ],
   "source": [
    "try:\n",
    "    spam = int(input(\"Enter a number: \"))\n",
    "    if spam == 1:\n",
    "        print(\"Hello\")\n",
    "    elif spam == 2:\n",
    "        print(\"Howdy\")\n",
    "    else:\n",
    "        print(\"Greetings!\")\n",
    "except ValueError as e:\n",
    "    print(\"Please re-enter a numeric value only\")\n",
    "    spam = int(input(\"Enter a number: \"))"
   ]
  },
  {
   "attachments": {},
   "cell_type": "markdown",
   "metadata": {},
   "source": [
    "9. If your programme is stuck in an endless loop, what keys you’ll press?"
   ]
  },
  {
   "attachments": {},
   "cell_type": "markdown",
   "metadata": {},
   "source": [
    "Explaination: \n",
    "* If a program is stuck in infinite loop, it can only be stopped with external intervention.\n",
    "* We can press Ctrl+C to break the loop and come out of the execution. \n",
    "* And when we do so, we can see KeyboardInterrupt error is thrown by python interpreter."
   ]
  },
  {
   "attachments": {},
   "cell_type": "markdown",
   "metadata": {},
   "source": [
    "10. How can you tell the difference between break and continue?"
   ]
  },
  {
   "cell_type": "code",
   "execution_count": 6,
   "metadata": {},
   "outputs": [
    {
     "name": "stdout",
     "output_type": "stream",
     "text": [
      "0\n",
      "1\n",
      "2\n",
      "3\n",
      "4\n",
      "5\n",
      "\n",
      "\n",
      "6\n",
      "7\n",
      "8\n",
      "9\n",
      "10\n"
     ]
    }
   ],
   "source": [
    "# Explaination:\n",
    "# Break: This keyword is used in breaking out the loop execution in a program. \n",
    "# Once break statement is executed, execution comes out of the loop and any statement after the loop ghets executed.\n",
    "\n",
    "x = 5\n",
    "for i in range(10):\n",
    "    print(i)\n",
    "    if i >= x:\n",
    "        break\n",
    "\n",
    "print()\n",
    "print()\n",
    "\n",
    "# Continue: This keyword is used in continuing the loop execution in a program without executing any statements within the loop after continue statement.\n",
    "# Once continue statement is executed, execution jumps back to the loop and any statement after continue wihtin the loop gets skipped.\n",
    "\n",
    "x = 5\n",
    "for i in range(11):\n",
    "    if i <= x:\n",
    "        continue\n",
    "    print(i)"
   ]
  },
  {
   "cell_type": "code",
   "execution_count": null,
   "metadata": {},
   "outputs": [],
   "source": []
  },
  {
   "cell_type": "code",
   "execution_count": null,
   "metadata": {},
   "outputs": [],
   "source": []
  }
 ],
 "metadata": {
  "kernelspec": {
   "display_name": "Python 3",
   "language": "python",
   "name": "python3"
  },
  "language_info": {
   "codemirror_mode": {
    "name": "ipython",
    "version": 3
   },
   "file_extension": ".py",
   "mimetype": "text/x-python",
   "name": "python",
   "nbconvert_exporter": "python",
   "pygments_lexer": "ipython3",
   "version": "3.9.16"
  },
  "orig_nbformat": 4
 },
 "nbformat": 4,
 "nbformat_minor": 2
}
