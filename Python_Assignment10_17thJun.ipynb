{
 "cells": [
  {
   "attachments": {},
   "cell_type": "markdown",
   "metadata": {},
   "source": [
    "1. What is the role of try and exception block?\n"
   ]
  },
  {
   "attachments": {},
   "cell_type": "markdown",
   "metadata": {},
   "source": [
    "Try & Exception blocks are used in a program to handle any situation where there can be a possibility of arising an exception and to handle those exceptions gracefully so that our program doesn't terminate abnormally.\n",
    "\n",
    "In broader terms, it has got four parts:\n",
    "- TRY block \n",
    "- EXCEPTION block\n",
    "- ELSE block (Optional)\n",
    "- FINALLY block (Optional)\n",
    "\n",
    "**Try block**: Those program statements are written inside this block which has a probable chance of raising exception.\n",
    "\n",
    "**Except block**: This block follows the Try block and whatever post exception codes need to be written goes inside it.\n",
    "\n",
    "**Else block**: This is an optional block. If there is no exception raised, then Else block gets executed otherwise not.\n",
    "\n",
    "**Finally block**: This is also an optional block. Finally block gets executed irrespective of exception getting occurred."
   ]
  },
  {
   "attachments": {},
   "cell_type": "markdown",
   "metadata": {},
   "source": [
    "2. What is the syntax for a basic try-except block?\n"
   ]
  },
  {
   "cell_type": "code",
   "execution_count": 3,
   "metadata": {},
   "outputs": [
    {
     "name": "stdout",
     "output_type": "stream",
     "text": [
      "Exception raised <built-in method with_traceback of ZeroDivisionError object at 0x7f8a48c053b0>\n"
     ]
    }
   ],
   "source": [
    "x = 2\n",
    "y = 0\n",
    "try:\n",
    "     print(x/y)  # Here goes the code which has can raise an exception based scenario if the denominator is Zero\n",
    "except Exception as e:\n",
    "    # If any exception is raised, this block handles it and prints out the exception\n",
    "    print(\"Exception raised\", e.with_traceback)"
   ]
  },
  {
   "attachments": {},
   "cell_type": "markdown",
   "metadata": {},
   "source": [
    "3. What happens if an exception occurs inside a try block and there is no matching\n",
    "except block?\n"
   ]
  },
  {
   "attachments": {},
   "cell_type": "markdown",
   "metadata": {},
   "source": [
    "If an exception is occurs inside the Try block and there is no matching Except block pertaining to the type of exception occurred, \n",
    "then the exception goes unhandled and program terminates abnormally."
   ]
  },
  {
   "attachments": {},
   "cell_type": "markdown",
   "metadata": {},
   "source": [
    "4. What is the difference between using a bare except block and specifying a specific\n",
    "exception type?\n"
   ]
  },
  {
   "attachments": {},
   "cell_type": "markdown",
   "metadata": {},
   "source": [
    "**Bare except** \n",
    "- An except block is a block without mentioning any Exception type\n",
    "- It can catch any type of exception that can occur in the try block including Keyboard Interrupts and System Exits too\n",
    "- Its undesirable and not considered to be a pythonic way of handling exception\n",
    "\n",
    "**Specific exception type**\n",
    "- An except block with specific exception type will catch an exception occurred of the type\n",
    "- It is considerate always to handle expected failure states using specific Exception type."
   ]
  },
  {
   "attachments": {},
   "cell_type": "markdown",
   "metadata": {},
   "source": [
    "5. Can you have nested try-except blocks in Python? If yes, then give an example.\n"
   ]
  },
  {
   "attachments": {},
   "cell_type": "markdown",
   "metadata": {},
   "source": [
    "Yes, we can have nested try-except blocks in Python"
   ]
  },
  {
   "cell_type": "code",
   "execution_count": 8,
   "metadata": {},
   "outputs": [
    {
     "name": "stdout",
     "output_type": "stream",
     "text": [
      "Outer try block\n",
      "Outer except block\n",
      "Outer finally block\n"
     ]
    }
   ],
   "source": [
    "try:\n",
    "    print(\"Outer try block\")\n",
    "    int(\"ABCD\")\n",
    "    try:\n",
    "        print(\"Inner try block\")\n",
    "        print(1/0)\n",
    "    except ZeroDivisionError:\n",
    "        print(\"Inner except block\")\n",
    "    finally:\n",
    "        print(\"Inner finally block\")\n",
    "except ValueError:\n",
    "    print(\"Outer except block\")\n",
    "finally:\n",
    "    print(\"Outer finally block\")"
   ]
  },
  {
   "attachments": {},
   "cell_type": "markdown",
   "metadata": {},
   "source": [
    "6. Can we use multiple exception blocks, if yes then give an example.\n"
   ]
  },
  {
   "attachments": {},
   "cell_type": "markdown",
   "metadata": {},
   "source": [
    "Yes, we can use multiple exception blocks for a single try block"
   ]
  },
  {
   "cell_type": "code",
   "execution_count": 11,
   "metadata": {},
   "outputs": [
    {
     "name": "stdout",
     "output_type": "stream",
     "text": [
      "File not found\n"
     ]
    }
   ],
   "source": [
    "try:\n",
    "    f = open(\"missing.txt\")\n",
    "except FileNotFoundError:\n",
    "    print(\"File not found\")\n",
    "except OSError:\n",
    "    print(\"It failed\")"
   ]
  },
  {
   "attachments": {},
   "cell_type": "markdown",
   "metadata": {},
   "source": [
    "Explaination: Here in the above example, since the file path was invalid, it has thrown FileNotFound exception when the program tried to open the file. and the exception got caught in the specific except block"
   ]
  },
  {
   "attachments": {},
   "cell_type": "markdown",
   "metadata": {},
   "source": [
    "7. Write the reason due to which following errors are raised:\n",
    "a. EOFError\n",
    "b. FloatingPointError \n",
    "c. IndexError\n",
    "d. MemoryError\n",
    "e. OverflowError\n",
    "f. TabError\n",
    "g. ValueError\n"
   ]
  },
  {
   "cell_type": "markdown",
   "metadata": {},
   "source": [
    "**EOFError**: This exception is raised when the interpreter reads a file but it couldn't find any end of the statement or you can say, it didn't find a valid termination sequence which will tell the interpreter to stop reading the file.\n",
    "\n",
    "**FloatingPointError**: This exception occurs when a floating-point calculation is attempted that is not supported by the available hardware or software. We can also say, it occurs when trying to calculate a number that is too large or too small to represent as a floating-point number.\n",
    "\n",
    "**IndexError**: This exception is raised when we try to access the index of an iterable object which doesn't exists.\n",
    "\n",
    "**MemoryError**: This exception is raised when the system on which the Python interpreter is running runs out of memory, i.e. the systems's memory is already occupied entirely and hence couldn't allocated to the Python interpreter.\n",
    "\n",
    "**OverflowError**: This exception is raised when a Python object attempts to store value beyond its prescribed threshold limit.\n",
    "\n",
    "**TabError**: This exception occurs when we have mix of space and tab wise indentations in our Pythno program.\n",
    "\n",
    "**ValueError**: This exception is raised when we provide argument of correct datatype but incorrect value (which is not expected) to a function. \n",
    "\n",
    "e.g. math.sqrt(-10) --> here data type is int (its correct), but its a negative value, hence will throw ValueError exception\n",
    "Another example can be, trying to convert literal string to int.\n"
   ]
  },
  {
   "attachments": {},
   "cell_type": "markdown",
   "metadata": {},
   "source": [
    "8. Write\n",
    "a. Program to divide two numbers\n",
    "b. Program to convert a string to an integer\n",
    "c. Program to access an element in a list\n",
    "d. Program to handle a specific exception\n",
    "e. Program to handle any exception"
   ]
  },
  {
   "cell_type": "code",
   "execution_count": 15,
   "metadata": {},
   "outputs": [
    {
     "name": "stdout",
     "output_type": "stream",
     "text": [
      "5.0\n"
     ]
    }
   ],
   "source": [
    "# a. Program to divide two numbers\n",
    "divide = lambda x,y: x/y if y>0 else \"Denominator cannot be Zero\"\n",
    "print(divide(10,2))  #This will divide the first number by the second"
   ]
  },
  {
   "cell_type": "code",
   "execution_count": 28,
   "metadata": {},
   "outputs": [
    {
     "name": "stdout",
     "output_type": "stream",
     "text": [
      "100\n"
     ]
    }
   ],
   "source": [
    "# b. Program to convert a string to an integer\n",
    "convert_str_to_int = lambda x: int(x) if isinstance(x, str) and x.isdigit() else \"Invalid input provided\"\n",
    "print(convert_str_to_int(\"100\"))  #Note: We cannot convert literal string values to int. We can only numbers represented as strings"
   ]
  },
  {
   "cell_type": "code",
   "execution_count": 19,
   "metadata": {},
   "outputs": [
    {
     "name": "stdout",
     "output_type": "stream",
     "text": [
      "Second\n"
     ]
    }
   ],
   "source": [
    "# c. Program to access an element in a list\n",
    "access_list = lambda x, y: x[y] if isinstance(x, list) and isinstance(y, int) else \"Invalid inputs provided\" \n",
    "print(access_list(['First', 'Second', 'Third'], 1))  #This is fetch the element from Index 1 of the list"
   ]
  },
  {
   "cell_type": "code",
   "execution_count": 32,
   "metadata": {},
   "outputs": [
    {
     "name": "stdout",
     "output_type": "stream",
     "text": [
      "Exception occured: <class 'ValueError'>\n"
     ]
    }
   ],
   "source": [
    "# d. Program to handle a specific exception\n",
    "try:\n",
    "    a = \"string\"\n",
    "    a = int(a)\n",
    "except ValueError as e:\n",
    "    print(f\"Exception occured: {e.__class__}\")"
   ]
  },
  {
   "cell_type": "code",
   "execution_count": 34,
   "metadata": {},
   "outputs": [
    {
     "name": "stdout",
     "output_type": "stream",
     "text": [
      "Exception Occured and caught by Base Exception\n"
     ]
    }
   ],
   "source": [
    "# e. Program to handle any exception\n",
    "try:\n",
    "    a = [1,2,3,4,5]\n",
    "    print(f\"Accessing an invalid index: {a[6]}\")\n",
    "except BaseException:  #Its recommended to avoid bare exception and use BaseException if you want to catch any exceptions\n",
    "    print(\"Exception Occured and caught by Base Exception\")\n",
    "    \n",
    "    "
   ]
  }
 ],
 "metadata": {
  "kernelspec": {
   "display_name": "Python38",
   "language": "python",
   "name": "python3"
  },
  "language_info": {
   "codemirror_mode": {
    "name": "ipython",
    "version": 3
   },
   "file_extension": ".py",
   "mimetype": "text/x-python",
   "name": "python",
   "nbconvert_exporter": "python",
   "pygments_lexer": "ipython3",
   "version": "3.10.11"
  },
  "orig_nbformat": 4
 },
 "nbformat": 4,
 "nbformat_minor": 2
}
