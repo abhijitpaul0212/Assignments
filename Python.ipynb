{
 "cells": [
  {
   "cell_type": "markdown",
   "metadata": {},
   "source": [
    "## Table of Contents\n",
    "\n",
    "* [Chapter 1](#chaper1)\n",
    "   * [Section 1.1](#section_1_1)\n"
   ]
  },
  {
   "cell_type": "markdown",
   "metadata": {},
   "source": [
    "# Table of Contents:\n",
    "* [Python](#chapter1)\n",
    "   * [What is Python?](#section_1_1) \n",
    "   * [Python Packages](#section_1_2) \n",
    "   * [Keywords in Python](#section_1_3) \n",
    "   * [Identifiers](#section_1_4) \n",
    "   * [Variables](#section_1_5)\n",
    "   * [Comments](#section_1_6)\n",
    "   * [Indentation](#section_1_7)\n",
    "   * [Statements](#section_1_8) \n",
    "  \n",
    "\n",
    "* Python Packages\n",
    "* Python Keywords\n",
    "* Identifiers & Variables\n",
    "* Comments, Indentation and statements\n",
    "* Python Data types\n",
    "* Standard Input & Output\n",
    "* Operators\n",
    "* Control Flow: if else \n",
    "* Control Flow: while loop\n",
    "* Control Flow: for loop\n",
    "* Control Flow: break and continue\n",
    "* User Defined Functions\n",
    "* Lambda Function\n",
    "* Recursion\n",
    "* Special Functions - map(), filter(), reduce(), sorted()\n",
    "* Exception Handling Using Try Catch Block \n",
    "* Custom Exception Handling\n",
    "* Logging With Python\n",
    "* Debugging With Python\n",
    "* OOP - Python Objects And Classes\n",
    "* Python Constructors"
   ]
  },
  {
   "cell_type": "markdown",
   "metadata": {},
   "source": [
    "## **Python** <a class=\"anchor\" id=\"chapter1\"></a>\n",
    "\n",
    "#### What is Python  <a class=\"anchor\" id=\"section_1_1\"></a>\n",
    "1. It is a high-level, general-purpose programming language\n",
    "2. It is used for: web development (server-side), software development, mathematics, data science, system scripting.\n",
    "3. It's design philosophy is to enhance code-readability with the use of indentation\n",
    "4. It is dynamically typed & auto garbage-collected language\n",
    "5. It works on diferent operating system\n",
    "6. It runs on an interpreter system, which means each line of code can be executed as soon as its written, i.e. supports quick prototyping\n",
    "7. It is a multi-paradigm programming language, which means python supports Object Oriented Programming, Procedural Programming and Structured Programming\n",
    "\n"
   ]
  },
  {
   "cell_type": "markdown",
   "metadata": {},
   "source": [
    "#### Python Packages  <a class=\"anchor\" id=\"section_1_2\"></a>\n",
    "1. Package in Python is a folder & Module is a python file.\n",
    "2. Python Package that can contains single or multiple sub-folders called as sub-modules, single or multiple python files.\n",
    "3. Python module can contains several classes, functions, variables, etc.\n",
    "4. On installation of a package it resides in the system and only when we import it, it gets loaded in RAM to avoid wastage of RAM.\n",
    "5. Advantages of using packages are it reduces coding and increases code re-usability."
   ]
  },
  {
   "cell_type": "code",
   "execution_count": null,
   "metadata": {},
   "outputs": [
    {
     "name": "stdout",
     "output_type": "stream",
     "text": [
      "9.0\n",
      "9.0\n"
     ]
    }
   ],
   "source": [
    "# Here 'math' is a module name  \n",
    "\n",
    "from math import sqrt  # Here we are importing the specific method under math module\n",
    "print(sqrt(81))\n",
    "\n",
    "import math  # Here we are importing the math module itself. And to call any method, we need to use module name with it\n",
    "print(math.sqrt(81))"
   ]
  },
  {
   "cell_type": "markdown",
   "metadata": {},
   "source": [
    "#### Keywords in Python  <a class=\"anchor\" id=\"section_1_3\"></a>\n",
    "1. Keywords are special reserved words in Python that have specific meanings and purposes\n",
    "2. They can't be used for anything but its own defined purpose only.\n",
    "3. They are in-built and need not to be imported.\n",
    "2. There are 36 keywords in Python3.9\n",
    "\n",
    "| 1 | 2 | 3 | 4 | 5 | 6 | 7 | 8 | 9 |\n",
    "|:---------|:-------------:|:--------------:|:--------------:|:--------------:|:--------------:|:--------------:|:--------------:|:--------------:|\n",
    "| False | None | True | and | as | assert | async | pass | raise |\n",
    "| await | break | class | continue | def | del | elif | return | try |\n",
    "| else | except | finally | for | from | global | if | while | with |\n",
    "| import | in | is | lambda | nonlocal | not | or | yield | __peg_parser__ |"
   ]
  },
  {
   "cell_type": "code",
   "execution_count": null,
   "metadata": {},
   "outputs": [
    {
     "name": "stdout",
     "output_type": "stream",
     "text": [
      "['False', 'None', 'True', '__peg_parser__', 'and', 'as', 'assert', 'async', 'await', 'break', 'class', 'continue', 'def', 'del', 'elif', 'else', 'except', 'finally', 'for', 'from', 'global', 'if', 'import', 'in', 'is', 'lambda', 'nonlocal', 'not', 'or', 'pass', 'raise', 'return', 'try', 'while', 'with', 'yield']\n",
      "Total numbers of Keywords are 36\n",
      "\n",
      "Here is a list of the Python keywords.  Enter any keyword to get more help.\n",
      "\n",
      "False               break               for                 not\n",
      "None                class               from                or\n",
      "True                continue            global              pass\n",
      "__peg_parser__      def                 if                  raise\n",
      "and                 del                 import              return\n",
      "as                  elif                in                  try\n",
      "assert              else                is                  while\n",
      "async               except              lambda              with\n",
      "await               finally             nonlocal            yield\n",
      "\n"
     ]
    }
   ],
   "source": [
    "# One way to get Python Keywords is using 'keyword' package\n",
    "import keyword\n",
    "kw = keyword.kwlist  # its an attribute and and not a function\n",
    "print(kw)\n",
    "print(f\"Total numbers of Keywords are {len(kw)}\")\n",
    "\n",
    "# Another way to get Python Keywords is by using 'help()' function and passing 'keywords' as arg.\n",
    "help(\"keywords\")"
   ]
  },
  {
   "cell_type": "markdown",
   "metadata": {},
   "source": [
    "#### Case sensitive\n",
    "Python is a case sensitive language that means captial & small letters are treated differently"
   ]
  },
  {
   "cell_type": "code",
   "execution_count": null,
   "metadata": {},
   "outputs": [
    {
     "name": "stdout",
     "output_type": "stream",
     "text": [
      "10\n"
     ]
    }
   ],
   "source": [
    "#None = 10  # cannot assign to None is the syntax error\n",
    "none = 10\n",
    "print(none)"
   ]
  },
  {
   "cell_type": "code",
   "execution_count": null,
   "metadata": {},
   "outputs": [
    {
     "name": "stdout",
     "output_type": "stream",
     "text": [
      "170\n"
     ]
    }
   ],
   "source": [
    "marks1 = 80\n",
    "Marks1 = 90\n",
    "\n",
    "# total = marks1 + marks1\n",
    "sum1 = marks1 + Marks1\n",
    "\n",
    "print(sum1)"
   ]
  },
  {
   "cell_type": "markdown",
   "metadata": {},
   "source": [
    "#### Identifiers  <a class=\"anchor\" id=\"section_1_4\"></a>\n",
    "1. Its the name we give to identify a variable, function, class, module or other object.\n",
    "2. That means, whenever we want to give an entity a name, that's called 'identifier'\n",
    "1. It can start with Alphanumeric character & underscore \n",
    "2. It cannot start with a Digit or Any special characters\n",
    "3. It cannot be a reserved keyword"
   ]
  },
  {
   "cell_type": "code",
   "execution_count": 1,
   "metadata": {},
   "outputs": [],
   "source": [
    "# Identifiers\n",
    "\n",
    "_age = 10  # You can start identifier/variable name with underscore\n",
    "Age = 10  # You can start identifier/variable name with Captial Alpha letter\n",
    "age = 10  # You can start identifier/variable name with small Alpha letter\n",
    "_123age = 10  # You can start identifier/variable name with underscore followed by any alphanumeric characters\n",
    "#123age = 10  # invalid syntax as it started with numeric value\n",
    "#@123age = 10  # invalid syntax as it started with numeric value"
   ]
  },
  {
   "cell_type": "markdown",
   "metadata": {},
   "source": [
    "#### Variables  <a class=\"anchor\" id=\"section_1_5\"></a>\n",
    "\n",
    "<ol>\n",
    "    <li>\n",
    "        <p><strong>Definition</strong>: In Python, a variable is a named location used to store data in memory.</p>\n",
    "    </li>\n",
    "    <li>\n",
    "        <p><strong>Declaration and Assignment</strong>: Variables are declared by writing the variable name and assigning it a value using the equals sign (<code>=</code>). For example:</p>\n",
    "    </li>\n",
    "</ol>"
   ]
  },
  {
   "cell_type": "code",
   "execution_count": null,
   "metadata": {},
   "outputs": [],
   "source": [
    "a = 5  # 'a' is a variable name\n",
    "st = \"hello\"  # 'st' is a variable name"
   ]
  },
  {
   "cell_type": "markdown",
   "metadata": {},
   "source": [
    "#### Comments  <a class=\"anchor\" id=\"section_1_6\"></a>\n",
    "\n",
    "1. **Definition**: A comment in Python is a piece of text un your vode that is not executed. Its typically used to explain what the code is doing or \n",
    "leave notes fort developers who will be reading ot maintaing the code\n",
    "2. **Single Line Comments**: Python uses a has symbol (#) to denote a comment. Anything written after Hash will be ignored by Python interpreter\n",
    "3. **Multi-Line Comments**: Multi-Line strings using triple quotes(''' or \"\"\") can be used as multi-line comments, as any strings written within \n",
    "will be ignored by Python interpreter\n",
    "                                                                                              "
   ]
  },
  {
   "cell_type": "code",
   "execution_count": null,
   "metadata": {},
   "outputs": [
    {
     "name": "stdout",
     "output_type": "stream",
     "text": [
      "9\n"
     ]
    }
   ],
   "source": [
    "# Add to numbers\n",
    "a=4 # value of a is 4\n",
    "b=5 # value of b is 5\n",
    "c = a+b  # sum is in c\n",
    "print(c)"
   ]
  },
  {
   "cell_type": "code",
   "execution_count": null,
   "metadata": {},
   "outputs": [],
   "source": [
    "def add_number(a,b):\n",
    "    \"\"\"\n",
    "    Parameters:\n",
    "    a (int): First variable\n",
    "    b (int): Second variable\n",
    "    \n",
    "    Return:\n",
    "    int: sum of variables a & b\n",
    "    \"\"\"\n",
    "    return a+b"
   ]
  },
  {
   "cell_type": "code",
   "execution_count": null,
   "metadata": {},
   "outputs": [
    {
     "name": "stdout",
     "output_type": "stream",
     "text": [
      "\n",
      "    Parameters:\n",
      "    a (int): First variable\n",
      "    b (int): Second variable\n",
      "    \n",
      "    Return:\n",
      "    int: sum of variables a & b\n",
      "    \n"
     ]
    }
   ],
   "source": [
    "print(add_number.__doc__)  # to print the doc string"
   ]
  },
  {
   "cell_type": "code",
   "execution_count": 2,
   "metadata": {},
   "outputs": [
    {
     "name": "stdout",
     "output_type": "stream",
     "text": [
      "Jose Marcial Portilla has a BS and MS in Mechanical Engineering from Santa Clara University and \n",
      "years of experience as a professional instructor and trainer for Data Science, Machine Learning and \n",
      "Python Programming. He has publications and patents in various fields such as microfluidics, \n",
      "materials science, and data science.\n"
     ]
    }
   ],
   "source": [
    "# Multi Line Comment: We use Triple Quotes e.g. \"\"\" <text content> \"\"\"\n",
    "\n",
    "text = \"\"\"Jose Marcial Portilla has a BS and MS in Mechanical Engineering from Santa Clara University and \n",
    "years of experience as a professional instructor and trainer for Data Science, Machine Learning and \n",
    "Python Programming. He has publications and patents in various fields such as microfluidics, \n",
    "materials science, and data science.\"\"\"\n",
    "\n",
    "print(text)"
   ]
  },
  {
   "cell_type": "markdown",
   "metadata": {},
   "source": [
    "#### Indentation  <a class=\"anchor\" id=\"section_1_7\"></a>\n",
    "\n",
    "1. **Importance**: In Python, identation is not just for readability. Its part of the syntax and is used to indicate a block of code\n",
    "2. **Space Usage**: Python uses identation to define the scope of loops, functions, classes, etc. Its Four Spaces or a Tab\n",
    "3. **Colon**: Usually, a  colon(:) at the end of a line is followed by an intended block of code.\n",
    "4. Without properly indenting the Python code, you will end up seeing 'IndentationError' and the code will not get compiled.\n",
    "5. Python Indentation is a way of telling a Python interpreter that the group of statements belongs to a particular block of code"
   ]
  },
  {
   "cell_type": "code",
   "execution_count": null,
   "metadata": {},
   "outputs": [
    {
     "name": "stdout",
     "output_type": "stream",
     "text": [
      "This is True\n"
     ]
    }
   ],
   "source": [
    "if True:\n",
    "#print(\"This is True\")  # IndentationError: expected an indented block\n",
    "    print(\"This is True\")"
   ]
  },
  {
   "cell_type": "markdown",
   "metadata": {},
   "source": [
    "#### Statements  <a class=\"anchor\" id=\"section_1_8\"></a>\n",
    "1. **Definition**: A statement in Python is a logical instruction that the Python interpreter can read and execute. \n",
    "2. In general, Any instruction written in the source code and executed by the Python interpreter is called a statement.\n",
    "3. **Types**: Python includes several types of statements viz, assignment statements, conditional statement, looping statement, etc"
   ]
  },
  {
   "cell_type": "code",
   "execution_count": null,
   "metadata": {},
   "outputs": [
    {
     "name": "stdout",
     "output_type": "stream",
     "text": [
      "2 is a positive number\n",
      "I am 1\n",
      "I am 2\n",
      "I am 3\n"
     ]
    }
   ],
   "source": [
    "# Conditional statement\n",
    "\n",
    "x = 2\n",
    "if x > 0:\n",
    "    print(\"{} is a positive number\".format(x))\n",
    "\n",
    "\n",
    "# Looping Statement\n",
    "\n",
    "for i in range(3):\n",
    "    print(\"I am {}\".format(i+1))"
   ]
  },
  {
   "cell_type": "markdown",
   "metadata": {},
   "source": [
    "#### Multi-Line Statement\n",
    "In Python, end of statement is identified by a newline character i.e '\\n'. But we can make a statement extend over\n",
    "multiple line.\n",
    "\n",
    "1. continuation character '\\\\'\n",
    "2. paranthetis ()\n",
    "3. brackets []\n",
    "4. braces {}\n",
    "5. semi-colon \";\"\n",
    "\n"
   ]
  },
  {
   "cell_type": "code",
   "execution_count": null,
   "metadata": {},
   "outputs": [
    {
     "name": "stdout",
     "output_type": "stream",
     "text": [
      "Geeks for Geeks\n"
     ]
    }
   ],
   "source": [
    "# continuation character.\n",
    "g = \"Geeks \\\n",
    "for \\\n",
    "Geeks\"\n",
    "print(g)"
   ]
  },
  {
   "cell_type": "code",
   "execution_count": null,
   "metadata": {},
   "outputs": [
    {
     "name": "stdout",
     "output_type": "stream",
     "text": [
      "193\n",
      "{193}\n",
      "[193]\n"
     ]
    }
   ],
   "source": [
    "# Paranthesis\n",
    "\n",
    "X = (1+2+4+5+6+7+1+2+4+5+6+7+\n",
    "     1+2+4+5+6+7+1+2+4+5+6+7+1+\n",
    "     2+4+5+6+7+1+2+4+5+6+7+1+2+\n",
    "     4+5+6+7+1+2+4+5+6)\n",
    "print(X)\n",
    "\n",
    "Y = {1+2+4+5+6+7+1+2+4+5+6+7+\n",
    "     1+2+4+5+6+7+1+2+4+5+6+7+1+\n",
    "     2+4+5+6+7+1+2+4+5+6+7+1+2+\n",
    "     4+5+6+7+1+2+4+5+6}\n",
    "print(Y)\n",
    "\n",
    "Z = [1+2+4+5+6+7+1+2+4+5+6+7+\n",
    "     1+2+4+5+6+7+1+2+4+5+6+7+1+\n",
    "     2+4+5+6+7+1+2+4+5+6+7+1+2+\n",
    "     4+5+6+7+1+2+4+5+6]\n",
    "print(Z)"
   ]
  },
  {
   "cell_type": "markdown",
   "metadata": {},
   "source": [
    "#### Dynamic Typing\n",
    "Python is dynamically typed, which means that you dont have to declare the type of a variable when you create one. \n",
    "You can chage the type of data held by a variable at any time throughout the life of program"
   ]
  },
  {
   "cell_type": "code",
   "execution_count": null,
   "metadata": {},
   "outputs": [
    {
     "name": "stdout",
     "output_type": "stream",
     "text": [
      "Datatype of 'a'  <class 'int'>\n",
      "Datatype of 'a'  <class 'str'>\n",
      "Datatype of 'a'  <class 'float'>\n"
     ]
    }
   ],
   "source": [
    "#Dynamic Typing\n",
    "\n",
    "a = 2  # 'a' contains integer\n",
    "print(\"Datatype of 'a' \", type(a))\n",
    "a = 'Abhi'  # now 'a' contains string and overrides previously stored integer\n",
    "print(\"Datatype of 'a' \", type(a))\n",
    "a = 4.34  # now 'a' contains float and overrides previously stored string\n",
    "print(\"Datatype of 'a' \", type(a))"
   ]
  },
  {
   "cell_type": "markdown",
   "metadata": {},
   "source": [
    "#### Data Types\n",
    "\n",
    "Primitive Data Types:\n",
    "1. <p><strong>Integers</strong>: Integers are whole numbers, without a fractional component. They can be positive or negative.</p>\n",
    "2. <p><strong>Floats</strong>: Floats represent real numbers and are written with a decimal point.</p>\n",
    "3. <p><strong>Complex</strong>: Complex data type consists of two values, the first one is the real part and the second is imaginary part. Its denoted as `3 + 7j`</p>\n",
    "4. <p><strong>Strings</strong>: Strings in Python are sequences of character data. They are created by enclosing characters in quotes.</p>\n",
    "5. <p><strong>Boolean</strong>: Boolean in Python is used to represent the truth value of an expression. True & False are the two types of it</p> \n",
    "\n",
    "Advanced Data Types:\n",
    "1. <p><strong>List</strong>: Ordered collection, Mutuable, Hetergoenous data, supports Indexing & Slicing\n",
    "2. <p><strong>Tuple</strong>: Ordered collection, Immutuable, Hetergoenous data, supports Indexing & Slicing\n",
    "3. <p><strong>Dictionary</strong>: Ordered collection, Mutable, Key-Value pair, Values can be Hetergoenous data, Keys are immutable\n",
    "4. <p><strong>Set</strong>: Unordered collection, Mutable, Contains Unique value only, Hetergoenous data"
   ]
  },
  {
   "cell_type": "code",
   "execution_count": 9,
   "metadata": {},
   "outputs": [
    {
     "name": "stdout",
     "output_type": "stream",
     "text": [
      "Data Type is <class 'int'>\n",
      "Data Type is <class 'float'>\n",
      "Data Type is <class 'str'>\n",
      "Data Type is <class 'bool'>\n"
     ]
    }
   ],
   "source": [
    "a = 10  #'int' datatype\n",
    "print(f\"Data Type is {type(a)}\")\n",
    "\n",
    "b = 10.10  #'float' datatype\n",
    "print(f\"Data Type is {type(b)}\")\n",
    "\n",
    "c = \"Hello 123\"  #'str' datatype\n",
    "print(f\"Data Type is {type(c)}\")\n",
    "\n",
    "d = True #'bool' datatype\n",
    "print(f\"Data Type is {type(d)}\")"
   ]
  },
  {
   "cell_type": "markdown",
   "metadata": {},
   "source": [
    "<p><strong>Lists</strong></p>\n",
    "<p><strong>Definition:</strong> A list in Python is an ordered collection (also known as a sequence) of items. Its Heterogenous in nature.</p>\n",
    "<p><strong>Mutable:</strong> Lists are mutable, which means their elements can be changed (added, modified, or deleted) after they are created.</p>\n",
    "<p><strong>Creation:</strong> A list is created by placing items (elements) inside square brackets [], separated by commas.</p>\n",
    "<p><strong>Indexing and Slicing:</strong> Lists support indexing and slicing to access and modify their elements. Python list indices start at 0.</p>"
   ]
  },
  {
   "cell_type": "code",
   "execution_count": null,
   "metadata": {},
   "outputs": [
    {
     "name": "stdout",
     "output_type": "stream",
     "text": [
      "<class 'list'>\n",
      "List:  [1, 2.2, 'data', [3, 'data1']]\n",
      "Indexing: Data in list at position 1 is  2.2\n",
      "Slicing: Data in list at between position 1 to 4 is  [2.2, 'data', [3, 'data1']]\n"
     ]
    }
   ],
   "source": [
    "d = [1, 2.2, \"data\", [3, \"data1\"]] # Here 'd' is of 'list' datatype | Ordered | Mutable | \n",
    "print(type(d))\n",
    "print(\"List: \", d)\n",
    "\n",
    "print(\"Indexing: Data in list at position 1 is \", d[1])\n",
    "print(\"Slicing: Data in list at between position 1 to 4 is \", d[1: 5])"
   ]
  },
  {
   "cell_type": "markdown",
   "metadata": {},
   "source": [
    "<p><strong>Tuples</strong></p>\n",
    "<p><strong>Definition</strong>: A tuple in Python is similar to a list. It's an ordered collection of items.  Heterogenous in nature</p>\n",
    "<p><strong>Immutable</strong>: The major difference from lists is that tuples are immutable, which means their elements cannot be changed (no addition, modification, or deletion) after they are created.</p>\n",
    "<p><strong>Creation</strong>: A tuple is created by placing items (elements) inside parentheses <code>()</code>, separated by commas.</p>\n",
    "<p><strong>Indexing and Slicing:</strong> Lists support indexing and slicing to access and modify their elements. Python list indices start at 0.</p>"
   ]
  },
  {
   "cell_type": "code",
   "execution_count": null,
   "metadata": {},
   "outputs": [
    {
     "name": "stdout",
     "output_type": "stream",
     "text": [
      "<class 'tuple'>\n",
      "Tuple:  (1, 2.2, 'data', [3, 'data1'])\n",
      "Indexing: Data in list at position 1 is  2.2\n",
      "Slicing: Data in list at between position 1 to 4 is  (2.2, 'data', [3, 'data1'])\n"
     ]
    }
   ],
   "source": [
    "e = (1, 2.2, \"data\", [3, \"data1\"]) # Here 'e' is of 'tuple' datatype | Ordered | Immutable | Heterogenous in nature\n",
    "print(type(e))\n",
    "print(\"Tuple: \", e)\n",
    "\n",
    "\n",
    "print(\"Indexing: Data in list at position 1 is \", e[1])\n",
    "print(\"Slicing: Data in list at between position 1 to 4 is \", e[1: 5])"
   ]
  },
  {
   "cell_type": "markdown",
   "metadata": {},
   "source": [
    "<p><strong>Dictionaries</strong></p>\n",
    "<p><strong>Definition</strong>: A dictionary in Python is an unordered collection of items. (from 3.7+, its a ordered collection of items) Each item stored in a dictionary has a key and value, making it a key-value pair.</p>\n",
    "<p><strong>Mutable</strong>: Dictionaries are mutable, which means you can change their elements. You can add, modify, or delete key-value pairs from a dictionary.</p>\n",
    "<p><strong>Creation</strong>: A dictionary is created by placing items (key-value pairs) inside curly braces <code>{}</code>, separated by commas. Each item is a pair made up of a key and a value, separated by a colon <code>:</code></p>\n",
    "<p> Ordered | Immutable Keys | Mutable Values | Heterogenous in nature</p>\n",
    "<p><strong>Unique Keys</strong>: Each key in a dictionary should be unique. If a dictionary is created with duplicate keys, the last assignment will overwrite the previous ones.</p>\n",
    "<p><strong>Accessing Values</strong>: You can access a value in a dictionary by providing the corresponding key inside square brackets <code>[]</code>.</p>\n",
    "<p><strong>Updating Values</strong>: You can update the value for a particular key by using the assignment operator <code>=</code>.</p>\n",
    "<p><strong>Adding and Deleting Key-Value Pairs</strong>: You can add a new key-value pair simply by assigning a value to a new key. You can delete a key-value pair using the <code>del</code> keyword.</p>"
   ]
  },
  {
   "cell_type": "code",
   "execution_count": 10,
   "metadata": {},
   "outputs": [
    {
     "name": "stdout",
     "output_type": "stream",
     "text": [
      "<class 'dict'>\n",
      "Dictionary:  {1: 'data1', 2.2: 3.4, 'key1': 'value1', (4, 5): [6, 7, 8]}\n",
      "Dictionary keys should be unique. If not, the last assignment will overwrite the previous ones. {'fruit1': 'apple', 'fruit2': 'pineapple', 'fruit3': 'banana'}\n",
      "Accessing dictionary using key 'fruit1', who's value is:  apple\n",
      "Updated dictionary:  {'fruit1': 'apple', 'fruit2': 'pineapple', 'fruit3': 'papaya'}\n",
      "Added new key-value to dictionary:  {'fruit1': 'apple', 'fruit2': 'pineapple', 'fruit3': 'papaya', 'fruit4': 'sugarcane'}\n",
      "Added new key-value to dictionary:  {'fruit1': 'apple', 'fruit2': 'pineapple', 'fruit3': 'papaya', 'fruit4': 'sugarcane', 'fruit5': 'kiwi'}\n",
      "Dicitonary:  {'fruit1': 'apple', 'fruit2': 'pineapple', 'fruit3': 'papaya', 'fruit5': 'kiwi'}\n"
     ]
    }
   ],
   "source": [
    "# Here 'f' is of 'dictionary' datatype | Key-Value pair | Unordered | Immutable Keys | Mutable Values | Heterogenous in nature\n",
    "f = {1: \"data1\", 2.2: 3.4, \"key1\": \"value1\",(4,5): [6, 7, 8]} \n",
    "print(type(f))\n",
    "print(\"Dictionary: \", f)\n",
    "\n",
    "t = {'fruit1': 'apple', 'fruit2': 'guava', 'fruit3': 'banana', 'fruit2': 'pineapple'}\n",
    "print(\"Dictionary keys should be unique. If not, the last assignment will overwrite the previous ones.\", t)\n",
    "\n",
    "print(\"Accessing dictionary using key 'fruit1', who's value is: \", t.get('fruit1'))\n",
    "\n",
    "t['fruit3'] = 'papaya'\n",
    "print(\"Updated dictionary: \", t)\n",
    "\n",
    "t['fruit4'] = \"sugarcane\"\n",
    "print(\"Added new key-value to dictionary: \", t)\n",
    "t['fruit5'] = \"kiwi\"\n",
    "print(\"Added new key-value to dictionary: \", t)\n",
    "\n",
    "# Deleting key-value pair from the dictionary\n",
    "del t['fruit4']\n",
    "print(\"Dicitonary: \", t)\n"
   ]
  },
  {
   "cell_type": "markdown",
   "metadata": {},
   "source": [
    "<p><strong>Sets</strong>: A set is an unordered collection of items where every element is unique.</p>"
   ]
  },
  {
   "cell_type": "code",
   "execution_count": 11,
   "metadata": {},
   "outputs": [
    {
     "name": "stdout",
     "output_type": "stream",
     "text": [
      "<class 'set'>\n",
      "Set:  {1, 3, 4, 5, 6, 'gef', 9, 'abc'}\n"
     ]
    }
   ],
   "source": [
    "g = {1, 3, 4, 5, 6, 4, 3, 9, 1, \"abc\", \"gef\", \"abc\"}  # Here 'g' is of 'set' datatype | Unordered | Mutable | Unique values | Heterogenous in nature  \n",
    "print(type(g))\n",
    "print(\"Set: \", g)"
   ]
  },
  {
   "cell_type": "markdown",
   "metadata": {},
   "source": [
    "#### List Comprehension"
   ]
  },
  {
   "cell_type": "code",
   "execution_count": 19,
   "metadata": {},
   "outputs": [
    {
     "name": "stdout",
     "output_type": "stream",
     "text": [
      "[1, 4, 9, 16, 25, 36]\n"
     ]
    }
   ],
   "source": [
    "l = [1, 2, 3, 4, 5, 6]\n",
    "lc = [i**2 for i in l]\n",
    "print(lc)"
   ]
  },
  {
   "cell_type": "markdown",
   "metadata": {},
   "source": [
    "#### Dictionary Comprehension"
   ]
  },
  {
   "cell_type": "code",
   "execution_count": 20,
   "metadata": {},
   "outputs": [
    {
     "name": "stdout",
     "output_type": "stream",
     "text": [
      "{'A': 1, 'B': 8, 'C': 27, 'D': 64, 'E': 125, 'F': 216}\n"
     ]
    }
   ],
   "source": [
    "d = {'A': 1, 'B': 2, 'C': 3, 'D': 4, 'E': 5, 'F': 6}\n",
    "dc = {k: v**3 for k, v in d.items()}\n",
    "print(dc)"
   ]
  },
  {
   "cell_type": "markdown",
   "metadata": {},
   "source": [
    "# Standard Output\n",
    "\n",
    "print() is a standard output function which displays anything passed as an argument to the function\n",
    "\n",
    "# Standard Input\n",
    "input() is a standard input function which accepts anything passed as an argument to the function in string format"
   ]
  },
  {
   "cell_type": "code",
   "execution_count": null,
   "metadata": {},
   "outputs": [
    {
     "name": "stdout",
     "output_type": "stream",
     "text": [
      "Datatype of input data  <class 'str'>\n",
      "How are you, Abhijit\n"
     ]
    }
   ],
   "source": [
    "name = input(\"Enter your name \")\n",
    "print(\"Datatype of input data \", type(name))\n",
    "print(f\"How are you, {name}\")"
   ]
  },
  {
   "cell_type": "markdown",
   "metadata": {},
   "source": [
    "## Operators"
   ]
  },
  {
   "cell_type": "markdown",
   "metadata": {},
   "source": [
    "#### Arthmetic / Mathametical operators \n",
    "+, -, /, *, //, %, **"
   ]
  },
  {
   "cell_type": "code",
   "execution_count": 12,
   "metadata": {},
   "outputs": [
    {
     "name": "stdout",
     "output_type": "stream",
     "text": [
      "a + b:  13\n",
      "a - b:  7\n",
      "a * b:  30\n",
      "a / b:  3.3333333333333335\n",
      "a // b:  3\n",
      "a % b:  1\n",
      "a ** b:  1000\n"
     ]
    }
   ],
   "source": [
    "a = 10\n",
    "b = 3\n",
    "\n",
    "print(\"a + b: \", a+b)\n",
    "print(\"a - b: \", a-b)\n",
    "print(\"a * b: \", a*b)\n",
    "print(\"a / b: \", a/b)\n",
    "print(\"a // b: \", a//b)\n",
    "print(\"a % b: \", a%b)\n",
    "print(\"a ** b: \", a**b)"
   ]
  },
  {
   "cell_type": "markdown",
   "metadata": {},
   "source": [
    "#### Logical Operators\n",
    "and, or, not"
   ]
  },
  {
   "cell_type": "code",
   "execution_count": 13,
   "metadata": {},
   "outputs": [
    {
     "name": "stdout",
     "output_type": "stream",
     "text": [
      "AND operator\n",
      "True\n",
      "False\n",
      "False\n",
      "False\n",
      "OR operator\n",
      "True\n",
      "True\n",
      "True\n",
      "False\n",
      "NOT operator\n",
      "False\n",
      "True\n"
     ]
    }
   ],
   "source": [
    "print(\"AND operator\")\n",
    "print(True and True)\n",
    "print(True and False)\n",
    "print(False and True)\n",
    "print(False and False)\n",
    "\n",
    "print(\"OR operator\")\n",
    "print(True or True)\n",
    "print(True or False)\n",
    "print(False or True)\n",
    "print(False or False)\n",
    "\n",
    "print(\"NOT operator\")\n",
    "print(not True)\n",
    "print(not False)"
   ]
  },
  {
   "cell_type": "markdown",
   "metadata": {},
   "source": [
    "#### Bitwise Operator \n",
    "&, |, ^, >>, <<"
   ]
  },
  {
   "cell_type": "code",
   "execution_count": 15,
   "metadata": {},
   "outputs": [
    {
     "name": "stdout",
     "output_type": "stream",
     "text": [
      "a & b  0\n",
      "a | b  14\n",
      "a ^ b  14\n",
      "a >> 2  2\n",
      "a << 2  40\n",
      "a << 3  80\n"
     ]
    }
   ],
   "source": [
    "a = 10  # 1010\n",
    "b = 4  # 0100\n",
    "\n",
    "# Bitwise AND\n",
    "print(\"a & b \", a&b)  # 1010 and 0100 --> 0000 --> 0 (apply 'and' operator bit against bit)\n",
    "# 10 = 1 0 1 0\n",
    "# 4  = 0 1 0 0 \n",
    "# =============\n",
    "#      0 0 0 0 = 0\n",
    "\n",
    "# Bitwise OR\n",
    "print(\"a | b \", a|b)  # 1010 or 0100 --> 1110  --> 14(apply 'or' operator bit against bit)\n",
    "# 10 = 1 0 1 0\n",
    "# 4  = 0 1 0 0 \n",
    "# =============\n",
    "#      1 1 1 0 = 14\n",
    "\n",
    "\n",
    "# Bitwise XOR --> compares each bit of 1st operand with the 2nd\n",
    "# If one of the bit is 1 (but not both) , the corresponding result bit is set to 1, otherwise set to 0\n",
    "print(\"a ^ b \", a^b)\n",
    "\n",
    "# 10 = 1 0 1 0\n",
    "# 4  = 0 1 0 0 \n",
    "# =============\n",
    "#      1 1 1 0 = 14\n",
    "\n",
    "# 10 = 1 0 1 0\n",
    "# 4  = 1 1 0 0 \n",
    "# =============\n",
    "#      0 1 1 0 = 6\n",
    "\n",
    "\n",
    "# Bitwise Right Shift\n",
    "a = 10\n",
    "print(\"a >> 2 \", a >> 2)\n",
    "# 10 = 1010\n",
    "# >>= 0010 --> 2\n",
    "\n",
    "\n",
    "# Bitwise Left Shift\n",
    "a = 10\n",
    "print(\"a << 2 \", a << 2)\n",
    "# 10 = 1010\n",
    "# <<= 101000 --> 40  i.e 32+0+8+0+0+0   i.e 2^5 + 2^4 + 2^3 + 2^2 + 2^1 +2^0 \n",
    "\n",
    "a = 10\n",
    "print(\"a << 3 \", a << 3)\n",
    "# 10  =     010\n",
    "# 80  = 1010000 "
   ]
  },
  {
   "cell_type": "markdown",
   "metadata": {},
   "source": [
    "**Trick**: To get the binary value of an integer"
   ]
  },
  {
   "cell_type": "code",
   "execution_count": 17,
   "metadata": {},
   "outputs": [
    {
     "data": {
      "text/plain": [
       "'0b1010'"
      ]
     },
     "execution_count": 17,
     "metadata": {},
     "output_type": "execute_result"
    }
   ],
   "source": [
    "bin(10)"
   ]
  },
  {
   "cell_type": "markdown",
   "metadata": {},
   "source": [
    "## Functions\n",
    "\n",
    "\n",
    "### Advantags of having functions:\n",
    "1. Makes programming fast\n",
    "2. Reusability"
   ]
  },
  {
   "cell_type": "markdown",
   "metadata": {},
   "source": [
    "### Built-In Functions"
   ]
  },
  {
   "cell_type": "code",
   "execution_count": 24,
   "metadata": {},
   "outputs": [
    {
     "name": "stdout",
     "output_type": "stream",
     "text": [
      "3\n"
     ]
    }
   ],
   "source": [
    "# len\n",
    "l = len('abc')  # 3\n",
    "\n",
    "# print\n",
    "print(l)  # prints the given input"
   ]
  },
  {
   "cell_type": "markdown",
   "metadata": {},
   "source": [
    "### User Defined Functions"
   ]
  },
  {
   "cell_type": "markdown",
   "metadata": {},
   "source": [
    "Function with no arguments"
   ]
  },
  {
   "cell_type": "code",
   "execution_count": 25,
   "metadata": {},
   "outputs": [
    {
     "name": "stdout",
     "output_type": "stream",
     "text": [
      "Hello, this is my first function\n"
     ]
    }
   ],
   "source": [
    "def introduction():\n",
    "    print(\"Hello, this is my first function\")\n",
    "    \n",
    "introduction()"
   ]
  },
  {
   "cell_type": "markdown",
   "metadata": {},
   "source": [
    "Function with positional arguments"
   ]
  },
  {
   "cell_type": "code",
   "execution_count": 29,
   "metadata": {},
   "outputs": [],
   "source": [
    "def function1(firstname, lastname):\n",
    "    print(f\"First Name: {firstname}\")\n",
    "    print(f\"Last Name: {lastname}\")"
   ]
  },
  {
   "cell_type": "code",
   "execution_count": 30,
   "metadata": {},
   "outputs": [
    {
     "name": "stdout",
     "output_type": "stream",
     "text": [
      "First Name: Abhijit\n",
      "Last Name: Paul\n"
     ]
    }
   ],
   "source": [
    "# function1(\"Abhijit\")  # TypeError: function1() missing 1 required positional argument: 'lastname'\n",
    "function1(\"Abhijit\", \"Paul\")"
   ]
  },
  {
   "cell_type": "markdown",
   "metadata": {},
   "source": [
    "#### Functions with *args\n",
    "*args specifies the number of non-keyword arguments that can be passed to the function.\n",
    "\n",
    "During the function call, user can pass 'n' number of arguments and while perform the operations all of them will be considered"
   ]
  },
  {
   "cell_type": "code",
   "execution_count": 39,
   "metadata": {},
   "outputs": [
    {
     "name": "stdout",
     "output_type": "stream",
     "text": [
      "Number of arguments: 2\n",
      "Sum: 5\n",
      "Number of arguments: 3\n",
      "Sum: 10\n"
     ]
    }
   ],
   "source": [
    "def calculate_sum(*args) -> int:\n",
    "    \"\"\"This function is capable to calculate sum of 'n' number of arguments provided\n",
    "\n",
    "    Returns:\n",
    "        int: sum value\n",
    "    \"\"\"\n",
    "    print(f\"Number of arguments: {len(args)}\")\n",
    "    return f\"Sum: {sum(args)}\"\n",
    "\n",
    "print(calculate_sum(2,3))\n",
    "print(calculate_sum(2,3,5))"
   ]
  },
  {
   "cell_type": "markdown",
   "metadata": {},
   "source": [
    "#### Functions with **kwargs\n",
    "**kwargs allows us to pass any number of keyword arguments."
   ]
  },
  {
   "cell_type": "code",
   "execution_count": 42,
   "metadata": {},
   "outputs": [
    {
     "name": "stdout",
     "output_type": "stream",
     "text": [
      "Sentence: Hi there!\n",
      "Sentence: Kwargs are awesome!\n"
     ]
    }
   ],
   "source": [
    "def makeSentence(**kwargs):\n",
    "    sentence=''\n",
    "    for word in kwargs.values():\n",
    "        sentence+=word\n",
    "    return sentence\n",
    "\n",
    "print('Sentence:', makeSentence(a='Hi ',b='there!'))\n",
    "print('Sentence:', makeSentence(a='Kwargs ',b='are ', c='awesome!'))"
   ]
  },
  {
   "cell_type": "markdown",
   "metadata": {},
   "source": [
    "### Lambda\n",
    "\n",
    "**Lambda** function is a small anonymous function which can take any number of arguments, but can only have one expression.\n",
    "e.g. lambda argument(s) : expression \n",
    "\n",
    "* Regular function can have more than one expressions whereas Lambda function can have only one.\n",
    "* Regular function has a function name, whereas Lambda function doesnt.\n",
    "\n",
    "Lambda function can be useful when we need to create a function which has only one expression irrespective of number of arguments and has no requirement of repeatability"
   ]
  },
  {
   "cell_type": "code",
   "execution_count": 44,
   "metadata": {},
   "outputs": [
    {
     "name": "stdout",
     "output_type": "stream",
     "text": [
      "20\n"
     ]
    }
   ],
   "source": [
    "summation = lambda x,y,z: x+y+z\n",
    "print(summation(2,8,10))"
   ]
  },
  {
   "cell_type": "code",
   "execution_count": 45,
   "metadata": {},
   "outputs": [
    {
     "name": "stdout",
     "output_type": "stream",
     "text": [
      "9\n"
     ]
    }
   ],
   "source": [
    "square = lambda x: x**2\n",
    "print(square(3))"
   ]
  },
  {
   "cell_type": "code",
   "execution_count": 46,
   "metadata": {},
   "outputs": [
    {
     "name": "stdout",
     "output_type": "stream",
     "text": [
      "even\n",
      "odd\n"
     ]
    }
   ],
   "source": [
    "even_or_odd = lambda x: 'even' if x%2==0 else 'odd'\n",
    "print(even_or_odd(4))\n",
    "print(even_or_odd(11))"
   ]
  },
  {
   "cell_type": "code",
   "execution_count": 47,
   "metadata": {},
   "outputs": [
    {
     "name": "stdout",
     "output_type": "stream",
     "text": [
      "9\n"
     ]
    }
   ],
   "source": [
    "max_num = lambda x,y: x if x>y else y\n",
    "print(max_num(4,9))"
   ]
  },
  {
   "cell_type": "markdown",
   "metadata": {},
   "source": [
    "### Recursion Function\n",
    "A function that calls itself is said to be recursive, and the technique of employing a recursive function is called recursion.\n",
    "\n",
    "When we call a function in Python, the interpreter creates a new local namespace so that variables defined within that function don’t collide with identical variable defined elsewhere.\n",
    "\n",
    "The same holds true if multiple instances of the same function are running concurrently."
   ]
  },
  {
   "cell_type": "code",
   "execution_count": 48,
   "metadata": {},
   "outputs": [],
   "source": [
    "def function():\n",
    "    x = 10\n",
    "    function()"
   ]
  },
  {
   "cell_type": "markdown",
   "metadata": {},
   "source": [
    "When function() executes the first time, Python creates a namespace and assigns x the value 10 in that namespace. Then function() calls itself recursively. \n",
    "\n",
    "The second time function() runs, the interpreter creates a second namespace and assigns 10 to x there as well. \n",
    "\n",
    "These two instances of the name x are distinct from each another and can coexist without clashing because they are in separate namespaces."
   ]
  },
  {
   "cell_type": "code",
   "execution_count": 52,
   "metadata": {},
   "outputs": [
    {
     "ename": "RecursionError",
     "evalue": "maximum recursion depth exceeded",
     "output_type": "error",
     "traceback": [
      "\u001b[0;31m---------------------------------------------------------------------------\u001b[0m",
      "\u001b[0;31mRecursionError\u001b[0m                            Traceback (most recent call last)",
      "Cell \u001b[0;32mIn[52], line 1\u001b[0m\n\u001b[0;32m----> 1\u001b[0m function()\n",
      "Cell \u001b[0;32mIn[48], line 3\u001b[0m, in \u001b[0;36mfunction\u001b[0;34m()\u001b[0m\n\u001b[1;32m      1\u001b[0m \u001b[39mdef\u001b[39;00m \u001b[39mfunction\u001b[39m():\n\u001b[1;32m      2\u001b[0m     x \u001b[39m=\u001b[39m \u001b[39m10\u001b[39m\n\u001b[0;32m----> 3\u001b[0m     function()\n",
      "Cell \u001b[0;32mIn[48], line 3\u001b[0m, in \u001b[0;36mfunction\u001b[0;34m()\u001b[0m\n\u001b[1;32m      1\u001b[0m \u001b[39mdef\u001b[39;00m \u001b[39mfunction\u001b[39m():\n\u001b[1;32m      2\u001b[0m     x \u001b[39m=\u001b[39m \u001b[39m10\u001b[39m\n\u001b[0;32m----> 3\u001b[0m     function()\n",
      "    \u001b[0;31m[... skipping similar frames: function at line 3 (2970 times)]\u001b[0m\n",
      "Cell \u001b[0;32mIn[48], line 3\u001b[0m, in \u001b[0;36mfunction\u001b[0;34m()\u001b[0m\n\u001b[1;32m      1\u001b[0m \u001b[39mdef\u001b[39;00m \u001b[39mfunction\u001b[39m():\n\u001b[1;32m      2\u001b[0m     x \u001b[39m=\u001b[39m \u001b[39m10\u001b[39m\n\u001b[0;32m----> 3\u001b[0m     function()\n",
      "\u001b[0;31mRecursionError\u001b[0m: maximum recursion depth exceeded"
     ]
    }
   ],
   "source": [
    "# But the main problem with recursion is that we need to set some condition for the recursion to get over or stop,\n",
    "# else it will throw `RecursionError: maximum recursion depth exceeded`\n",
    "\n",
    "# Here on calling function(), it keep calling itself until the threshold limit of recursion is hit\n",
    "\n",
    "function()"
   ]
  },
  {
   "cell_type": "code",
   "execution_count": 58,
   "metadata": {},
   "outputs": [
    {
     "name": "stdout",
     "output_type": "stream",
     "text": [
      "5\n",
      "4\n",
      "3\n",
      "2\n",
      "1\n",
      "0\n"
     ]
    }
   ],
   "source": [
    "# Decreasing Counter\n",
    "def countdown(n):\n",
    "    print(n)\n",
    "    if n == 0:\n",
    "        return\n",
    "    else:\n",
    "        countdown(n-1)\n",
    "\n",
    "countdown(5)"
   ]
  },
  {
   "cell_type": "code",
   "execution_count": 61,
   "metadata": {},
   "outputs": [
    {
     "name": "stdout",
     "output_type": "stream",
     "text": [
      "33\n"
     ]
    }
   ],
   "source": [
    "# Sum of Fibonacci series for a given 'n' position\n",
    "# 0, 1, 1, 2, 3, 5, 8, 13, 21, 34, ...\n",
    "def fibonacci(n: int):\n",
    "    if n <= 1:\n",
    "        return n\n",
    "    return fibonacci(n-1) + fibonacci(n-2) + 1\n",
    "\n",
    "print(fibonacci(7))"
   ]
  },
  {
   "cell_type": "markdown",
   "metadata": {},
   "source": [
    "### Get & Set Recursion Limit"
   ]
  },
  {
   "cell_type": "code",
   "execution_count": 53,
   "metadata": {},
   "outputs": [
    {
     "name": "stdout",
     "output_type": "stream",
     "text": [
      "3000\n"
     ]
    }
   ],
   "source": [
    "from sys import getrecursionlimit\n",
    "print(getrecursionlimit())"
   ]
  },
  {
   "cell_type": "code",
   "execution_count": 54,
   "metadata": {},
   "outputs": [
    {
     "name": "stdout",
     "output_type": "stream",
     "text": [
      "2000\n"
     ]
    }
   ],
   "source": [
    "from sys import setrecursionlimit\n",
    "setrecursionlimit(2000)\n",
    "print(getrecursionlimit())"
   ]
  },
  {
   "cell_type": "markdown",
   "metadata": {},
   "source": [
    "## Special Functions\n",
    "\n",
    "### map()\n",
    "* It is a built-in function that allows us to process and transform all the items in an iterable without using an explicit for loop.\n",
    "* This technique is known as mapping. \n",
    "* It is useful when we need to apply a transformation function to each item in an iterable and transform them into a new iterable. "
   ]
  },
  {
   "cell_type": "code",
   "execution_count": 67,
   "metadata": {},
   "outputs": [
    {
     "name": "stdout",
     "output_type": "stream",
     "text": [
      "[4, 16, 36, 64]\n"
     ]
    }
   ],
   "source": [
    "def square(num):\n",
    "    return num ** 2\n",
    "\n",
    "numbers = [2,4,6,8]\n",
    "print(list(map(square, numbers)))"
   ]
  },
  {
   "cell_type": "markdown",
   "metadata": {},
   "source": [
    "Using lambda with map"
   ]
  },
  {
   "cell_type": "code",
   "execution_count": 69,
   "metadata": {},
   "outputs": [
    {
     "name": "stdout",
     "output_type": "stream",
     "text": [
      "[8, 4, 2]\n"
     ]
    }
   ],
   "source": [
    "l1 = [1,2,3]\n",
    "l2 = [9,6,5]\n",
    "print(list(map(lambda x,y: x-y, l2, l1)))"
   ]
  },
  {
   "cell_type": "markdown",
   "metadata": {},
   "source": [
    "### filter()\n",
    "\n",
    "* Its a built in function that yields the items of the input iterable for which function returns True. \n",
    "* It means that filter() will check the truth value of each item in iterable and filter out all of the items that are falsy"
   ]
  },
  {
   "cell_type": "code",
   "execution_count": 74,
   "metadata": {},
   "outputs": [
    {
     "name": "stdout",
     "output_type": "stream",
     "text": [
      "[49, 36, 81]\n",
      "[7.0, 6.0, 9.0]\n"
     ]
    }
   ],
   "source": [
    "# Suppose we need to filter out (-ve) value from the list of mixed values before getting the squared root of them\n",
    "import math\n",
    "\n",
    "data = [49, 36, -9, 81]\n",
    "\n",
    "# Here we are filtering out the (-ve) or unwanted values first\n",
    "print(list(filter(lambda x: x>0, data)))\n",
    "\n",
    "# As a next step we can now calculate the squared root using map()\n",
    "print(list(map(math.sqrt, filter(lambda x: x>0, data))))"
   ]
  },
  {
   "cell_type": "markdown",
   "metadata": {},
   "source": [
    "### reduce()\n",
    "\n",
    "* It performs functional computation by taking a function and an iterable (e.g., list, tuple, dictionary, etc.) as arguments\n",
    "* It doesn't return multiple values or any iterator, it just returns a single value as output which is the result of the whole iterable getting reduced to only a single integer or string or boolean."
   ]
  },
  {
   "cell_type": "code",
   "execution_count": 75,
   "metadata": {},
   "outputs": [
    {
     "name": "stdout",
     "output_type": "stream",
     "text": [
      "The sum of the list elements is : 17\n",
      "The maximum element of the list is : 6\n"
     ]
    }
   ],
   "source": [
    "# importing functools for reduce()\n",
    "import functools\n",
    "\n",
    "# initializing list\n",
    "l = [1, 3, 5, 6, 2]\n",
    "\n",
    "# using reduce to compute sum of list\n",
    "print(\"The sum of the list elements is : \", end=\"\")\n",
    "print(functools.reduce(lambda a, b: a+b, l))\n",
    "\n",
    "# using reduce to compute maximum element from list\n",
    "print(\"The maximum element of the list is : \", end=\"\")\n",
    "print(functools.reduce(lambda a, b: a if a > b else b, l))"
   ]
  },
  {
   "cell_type": "markdown",
   "metadata": {},
   "source": [
    "### sorted()\n",
    "\n",
    "* It returns a sorted list of the specified iterable object (e.g list, tuple)"
   ]
  },
  {
   "cell_type": "code",
   "execution_count": 79,
   "metadata": {},
   "outputs": [
    {
     "name": "stdout",
     "output_type": "stream",
     "text": [
      "{'name': 'Laptop', 'price': 40000, 'location': 'Ahmedabad'}\n",
      "{'name': 'Printer', 'price': 20000, 'location': 'Mumbai'}\n",
      "{'name': 'Phone', 'price': 10000, 'location': 'Pune'}\n",
      "{'name': 'Headphone', 'price': 5000, 'location': 'Gujrat'}\n"
     ]
    }
   ],
   "source": [
    "# Here you have a list of dictionaries, \n",
    "# and you need to sort in reverse order the list on the basis of 'price' in the dictionary\n",
    "products = [{'name': 'Phone', 'price': 10000, 'location': 'Pune'},\n",
    "            {'name': 'Printer', 'price': 20000, 'location': 'Mumbai'},\n",
    "            {'name': 'Laptop', 'price': 40000, 'location': 'Ahmedabad'},\n",
    "            {'name': 'Headphone', 'price': 5000, 'location': 'Gujrat'}]\n",
    "\n",
    "for item in (sorted(products, key = lambda x: x['price'], reverse=True)):\n",
    "    print(item)"
   ]
  },
  {
   "cell_type": "code",
   "execution_count": 85,
   "metadata": {},
   "outputs": [
    {
     "name": "stdout",
     "output_type": "stream",
     "text": [
      "[2, 4, 6, 8]\n"
     ]
    }
   ],
   "source": [
    "number = [1, 2, 3, 4, 5, 6, 7, 8]\n",
    "print(list(filter(lambda x: x%2==0, number)))"
   ]
  },
  {
   "cell_type": "markdown",
   "metadata": {},
   "source": [
    "# Exception handling\n",
    "\n",
    "<ul>\n",
    "<li>It is a mechanism in programming to handle runtime errors, which are known as exceptions.&nbsp;</li>\n",
    "<li>It's a process where you define a block of code that will be executed if an error occurs when the program is running. This allows the program to continue running (or terminate gracefully) even if an error occurs.</li>\n",
    "<li>Without exception handling, an error occurring in a program would cause the program to immediately stop. This can be very undesirable, especially in production software, as it can lead to a poor user experience or even data loss.</li>\n",
    "<li>In Python, you use&nbsp;<code><strong>try</strong></code>&nbsp;and&nbsp;<code><strong>except</strong></code>&nbsp;blocks. The&nbsp;<code>try</code>&nbsp;block contains the code that might raise an exception, and the&nbsp;<code><strong>except</strong></code>&nbsp;block contains the code that will be executed if an exception is raised.</li>\n",
    "<li>The <strong>else</strong> block allows you run code without errors.</li>\n",
    "<li>The <strong>finally</strong> block executes code regardless of the try-and-except blocks.</li>\n",
    "</ul>"
   ]
  },
  {
   "cell_type": "markdown",
   "metadata": {},
   "source": [
    "<p><strong>Some of the most common types of exceptions are:</strong></p>\n",
    "<ul>\n",
    "<li>\n",
    "<p><strong><code>ZeroDivisionError</code>:</strong> Raised when the second argument of a division or modulo operation is zero.</p>\n",
    "</li>\n",
    "<li>\n",
    "<p><strong><code>TypeError</code>:</strong> Raised when an operation or function is applied to an object of inappropriate type.</p>\n",
    "</li>\n",
    "<li>\n",
    "<p><strong><code>ValueError</code>:</strong> Raised when a built-in operation or function receives an argument that has the right type but an inappropriate value.</p>\n",
    "</li>\n",
    "<li>\n",
    "<p><strong><code>IndexError</code>:</strong> Raised when a sequence subscript is out of range.</p>\n",
    "</li>\n",
    "<li>\n",
    "<p><strong><code>KeyError</code>:</strong> Raised when a dictionary key is not found.</p>\n",
    "</li>\n",
    "<li>\n",
    "<p><strong><code>FileNotFoundError</code>:</strong> Raised when a file or directory is requested but doesn&rsquo;t exist.</p>\n",
    "</li>\n",
    "<li>\n",
    "<p><strong><code>IOError</code>:</strong> Raised when an I/O operation (such as a print statement, the built-in open() function or a method of a file object) fails for an I/O-related reason.</p>\n",
    "</li>\n",
    "<li>\n",
    "<p><strong><code>ImportError</code>:</strong> Raised when an <code>import</code> statement fails to find the module definition or when a <code>from ... import</code> fails to find a name that is to be imported.</p>\n",
    "</li>\n",
    "<li>\n",
    "<p><strong><code>MemoryError</code>:</strong> Raised when an operation runs out of memory.</p>\n",
    "</li>\n",
    "<li>\n",
    "<p><strong><code>OverflowError</code>:</strong> Raised when the result of an arithmetic operation is too large to be expressed by the normal number format.</p>\n",
    "</li>\n",
    "<li>\n",
    "<p><strong><code>AttributeError</code>:</strong> Raised when an attribute reference or assignment fails.</p>\n",
    "</li>\n",
    "<li>\n",
    "<p><strong><code>SyntaxError</code>:</strong> Raised when the parser encounters a syntax error.</p>\n",
    "</li>\n",
    "<li>\n",
    "<p><strong><code>IndentationError</code>:</strong> Raised when there is incorrect indentation.</p>\n",
    "</li>\n",
    "<li>\n",
    "<p><strong><code>NameError</code>:</strong> Raised when a local or global name is not found.</p>\n",
    "</li>\n",
    "</ul>"
   ]
  },
  {
   "cell_type": "markdown",
   "metadata": {},
   "source": [
    "<p><strong><span style=\"font-family: monospace;\">Role of Try and Except:</span></strong></p>\n",
    "<ul>\n",
    "<li>\n",
    "<p><strong><code>try</code> block:</strong> The code within the <code>try</code> block contains the statements that may potentially raise an exception. It allows you to specify the section of code that you want to monitor for exceptions.</p>\n",
    "</li>\n",
    "<li>\n",
    "<p><strong><code>except</code> block:</strong> If an exception occurs within the <code>try</code> block, the corresponding <code>except</code> block(s) are executed. The <code>except</code> block allows you to define the actions or code that should be executed when a specific exception is raised. You can have multiple <code>except</code> blocks to handle different types of exceptions.</p>\n",
    "</li>\n",
    "<li>The <strong>else</strong> block allows you run code without errors.</li>\n",
    "<li>The <strong>finally</strong> block executes code regardless of the try-and-except blocks.</li>\n",
    "<li> Use the <strong>raise</strong> keyword to throw (or raise) an exception.</li>\n",
    "</ul>"
   ]
  },
  {
   "cell_type": "code",
   "execution_count": null,
   "metadata": {},
   "outputs": [
    {
     "name": "stdout",
     "output_type": "stream",
     "text": [
      "2\n"
     ]
    }
   ],
   "source": [
    "# try raise an exception bec x is not defined\n",
    "try:\n",
    "  print(x)\n",
    "except:\n",
    "  print(\"Some issue with x\")"
   ]
  },
  {
   "cell_type": "code",
   "execution_count": null,
   "metadata": {},
   "outputs": [
    {
     "name": "stdout",
     "output_type": "stream",
     "text": [
      "Good morning today is 17th June\n",
      "No issues\n"
     ]
    }
   ],
   "source": [
    "\"\"\"You can use the \"else\" keyword to specify a block\n",
    "   of code that will be performed if no errors are raised:\"\"\"\n",
    "try:\n",
    "  print(\"Good morning today is 17th June\")\n",
    "except:\n",
    "  print(\"Some issue\")\n",
    "else: \n",
    "  print(\"No issues\")"
   ]
  },
  {
   "cell_type": "code",
   "execution_count": null,
   "metadata": {},
   "outputs": [
    {
     "name": "stdout",
     "output_type": "stream",
     "text": [
      "2\n",
      "The 'try except' executed\n"
     ]
    }
   ],
   "source": [
    "\"\"\"If the \"finally\" block is supplied, \n",
    "   it will be executed whether or not the try block raises an error.\"\"\"\n",
    "\n",
    "try:\n",
    "  x = 2  \n",
    "  print(x)\n",
    "except:\n",
    "  print(\"There is no X\")\n",
    "finally:\n",
    "  print(\"The 'try except' executed\")\n"
   ]
  },
  {
   "cell_type": "code",
   "execution_count": null,
   "metadata": {},
   "outputs": [
    {
     "ename": "Exception",
     "evalue": "There is a problem: X is below zero",
     "output_type": "error",
     "traceback": [
      "\u001b[0;31m---------------------------------------------------------------------------\u001b[0m\n",
      "\u001b[0;31mException\u001b[0m                                 Traceback (most recent call last)\n",
      "Cell \u001b[0;32mIn[2], line 6\u001b[0m\n",
      "\u001b[1;32m      3\u001b[0m x \u001b[39m=\u001b[39m \u001b[39m2\u001b[39m\n",
      "\u001b[1;32m      5\u001b[0m \u001b[39mif\u001b[39;00m x \u001b[39m<\u001b[39m \u001b[39m10\u001b[39m:\n",
      "\u001b[0;32m----> 6\u001b[0m   \u001b[39mraise\u001b[39;00m \u001b[39mException\u001b[39;00m(\u001b[39m\"\u001b[39m\u001b[39mThere is a problem: X is below zero\u001b[39m\u001b[39m\"\u001b[39m)\n",
      "\n",
      "\u001b[0;31mException\u001b[0m: There is a problem: X is below zero"
     ]
    }
   ],
   "source": [
    "# Use the \"raise\" keyword to throw an exception.\n",
    "\n",
    "x = 2\n",
    "\n",
    "if x < 10:\n",
    "  raise Exception(\"There is a problem: X is below zero\")"
   ]
  },
  {
   "cell_type": "markdown",
   "metadata": {},
   "source": [
    "# ZeroDivisionError"
   ]
  },
  {
   "cell_type": "code",
   "execution_count": null,
   "metadata": {},
   "outputs": [
    {
     "ename": "ZeroDivisionError",
     "evalue": "division by zero",
     "output_type": "error",
     "traceback": [
      "\u001b[0;31m---------------------------------------------------------------------------\u001b[0m\n",
      "\u001b[0;31mZeroDivisionError\u001b[0m                         Traceback (most recent call last)\n",
      "Cell \u001b[0;32mIn[3], line 4\u001b[0m\n",
      "\u001b[1;32m      1\u001b[0m n \u001b[39m=\u001b[39m \u001b[39mint\u001b[39m(\u001b[39minput\u001b[39m(\u001b[39m\"\u001b[39m\u001b[39mPlease enter the numerator: \u001b[39m\u001b[39m\"\u001b[39m))\n",
      "\u001b[1;32m      2\u001b[0m d \u001b[39m=\u001b[39m \u001b[39mint\u001b[39m(\u001b[39minput\u001b[39m(\u001b[39m\"\u001b[39m\u001b[39mPlease enter the denominator: \u001b[39m\u001b[39m\"\u001b[39m))\n",
      "\u001b[0;32m----> 4\u001b[0m result \u001b[39m=\u001b[39m n \u001b[39m/\u001b[39;49m d\n",
      "\u001b[1;32m      5\u001b[0m \u001b[39mprint\u001b[39m(\u001b[39m\"\u001b[39m\u001b[39mResult:\u001b[39m\u001b[39m\"\u001b[39m, result)\n",
      "\n",
      "\u001b[0;31mZeroDivisionError\u001b[0m: division by zero"
     ]
    }
   ],
   "source": [
    "n = int(input(\"Please enter the numerator: \"))\n",
    "d = int(input(\"Please enter the denominator: \"))\n",
    "\n",
    "result = n / d\n",
    "print(\"Result:\", result)"
   ]
  },
  {
   "cell_type": "code",
   "execution_count": null,
   "metadata": {},
   "outputs": [
    {
     "name": "stdout",
     "output_type": "stream",
     "text": [
      "There is an Error: Division by zero is not allowed.\n"
     ]
    }
   ],
   "source": [
    "try:\n",
    "    n = int(input(\"Please enter the numerator: \"))\n",
    "    d = int(input(\"Please enter the denominator: \"))\n",
    "\n",
    "    result = n / d\n",
    "    print(\"Result:\", result)\n",
    "\n",
    "except ZeroDivisionError:\n",
    "    print(\"There is an Error: Division by zero is not allowed.\")\n"
   ]
  },
  {
   "cell_type": "markdown",
   "metadata": {},
   "source": [
    "# ValueError"
   ]
  },
  {
   "cell_type": "code",
   "execution_count": null,
   "metadata": {},
   "outputs": [
    {
     "name": "stdout",
     "output_type": "stream",
     "text": [
      "Result: 3.0\n"
     ]
    }
   ],
   "source": [
    "\"\"\"Raised when a built-in operation or function receives an \n",
    "   argument that has the right type but an inappropriate value.\"\"\"\n",
    "\n",
    "n = int(input(\"Please enter the numerator: \"))\n",
    "d = int(input(\"Please enter the denominator: \"))\n",
    "\n",
    "result = n / d\n",
    "print(\"Result:\", result)"
   ]
  },
  {
   "cell_type": "code",
   "execution_count": null,
   "metadata": {},
   "outputs": [
    {
     "name": "stdout",
     "output_type": "stream",
     "text": [
      "Please enter valid integers for the numerator and denominator.\n"
     ]
    }
   ],
   "source": [
    "try:\n",
    "    n = int(input(\"Please enter the numerator: \"))\n",
    "    d = int(input(\"Please enter the denominator: \"))\n",
    "\n",
    "    result = n / d\n",
    "    print(\"Result:\", result)\n",
    "\n",
    "except ValueError:\n",
    "    print(\"Please enter valid integers for the numerator and denominator.\")"
   ]
  },
  {
   "cell_type": "code",
   "execution_count": null,
   "metadata": {},
   "outputs": [
    {
     "name": "stdout",
     "output_type": "stream",
     "text": [
      "Please enter the numerator: 2\n",
      "Please enter the denominator: 2\n",
      "Result: 1.0\n"
     ]
    }
   ],
   "source": [
    "# Multiple exceptions\n",
    "\n",
    "try:\n",
    "    n = int(input(\"Please enter the numerator: \"))\n",
    "    d = int(input(\"Please enter the denominator: \"))\n",
    "\n",
    "    result = n / d\n",
    "    print(\"Result:\", result)\n",
    "\n",
    "except ValueError:\n",
    "    print(\"Please enter valid integers for the numerator and denominator.\")\n",
    "\n",
    "except ZeroDivisionError:\n",
    "    print(\"Division by zero is not allowed.\")"
   ]
  },
  {
   "cell_type": "markdown",
   "metadata": {},
   "source": [
    "# TypeError"
   ]
  },
  {
   "cell_type": "code",
   "execution_count": null,
   "metadata": {},
   "outputs": [
    {
     "name": "stdout",
     "output_type": "stream",
     "text": [
      "Error: TypeError occurred.\n"
     ]
    }
   ],
   "source": [
    "try:\n",
    "    x = \"10\"  # Assigning a string value to the variable x\n",
    "    y = 2\n",
    "\n",
    "    z = x + y  # Attempt addition between a string and an integer\n",
    "\n",
    "    print(\"Result:\", z)\n",
    "\n",
    "except TypeError:\n",
    "    print(\"Error: TypeError occurred.\")"
   ]
  },
  {
   "cell_type": "markdown",
   "metadata": {},
   "source": [
    "# IndexError"
   ]
  },
  {
   "cell_type": "code",
   "execution_count": null,
   "metadata": {},
   "outputs": [
    {
     "name": "stdout",
     "output_type": "stream",
     "text": [
      "IndexError error occurred.\n"
     ]
    }
   ],
   "source": [
    "try:\n",
    "    list1 = [1, 2, 3]\n",
    "\n",
    "    print(list1[3])  # Trying to reach an index that is out of range\n",
    "\n",
    "except IndexError:\n",
    "    print(\"IndexError error occurred.\")"
   ]
  },
  {
   "cell_type": "markdown",
   "metadata": {},
   "source": [
    "# KeyError"
   ]
  },
  {
   "cell_type": "code",
   "execution_count": null,
   "metadata": {},
   "outputs": [
    {
     "name": "stdout",
     "output_type": "stream",
     "text": [
      "KeyError error occurred.\n"
     ]
    }
   ],
   "source": [
    "try:\n",
    "    my_dictionary = {\"name\": \"John\", \"age\": 30}\n",
    "\n",
    "    print(my_dictionary[\"city\"])  # Accessing a KEY which does not exist\n",
    "\n",
    "except KeyError:\n",
    "    print(\"KeyError error occurred.\")"
   ]
  },
  {
   "cell_type": "markdown",
   "metadata": {},
   "source": [
    "# FileNotFoundError"
   ]
  },
  {
   "cell_type": "code",
   "execution_count": null,
   "metadata": {},
   "outputs": [
    {
     "name": "stdout",
     "output_type": "stream",
     "text": [
      "File 'my_file.txt' not found.\n"
     ]
    }
   ],
   "source": [
    "try:\n",
    "    file_location = \"my_file.txt\"\n",
    "\n",
    "    with open(file_location, \"r\") as file:\n",
    "        contents = file.read()\n",
    "\n",
    "except FileNotFoundError:\n",
    "    print(f\"File '{file_location}' not found.\")"
   ]
  },
  {
   "cell_type": "markdown",
   "metadata": {},
   "source": [
    "# IOError"
   ]
  },
  {
   "cell_type": "code",
   "execution_count": null,
   "metadata": {},
   "outputs": [
    {
     "name": "stdout",
     "output_type": "stream",
     "text": [
      "Unable to write to file 'file123.txt'.\n"
     ]
    }
   ],
   "source": [
    "try:\n",
    "    file_location = \"file123.txt\"\n",
    "\n",
    "    with open(file_location, \"r\") as file:\n",
    "        file.write(\"This is my file\")\n",
    "\n",
    "except IOError:\n",
    "    print(f\"Unable to write to file '{file_location}'.\")"
   ]
  },
  {
   "cell_type": "markdown",
   "metadata": {},
   "source": [
    "# ImportError"
   ]
  },
  {
   "cell_type": "code",
   "execution_count": null,
   "metadata": {},
   "outputs": [
    {
     "name": "stdout",
     "output_type": "stream",
     "text": [
      "Unsuccessful to import module 'library1234'.\n"
     ]
    }
   ],
   "source": [
    "try:\n",
    "    import library1234\n",
    "\n",
    "except ImportError:\n",
    "    print(\"Unsuccessful to import module 'library1234'.\")"
   ]
  },
  {
   "cell_type": "markdown",
   "metadata": {},
   "source": [
    "# MemoryError"
   ]
  },
  {
   "cell_type": "code",
   "execution_count": null,
   "metadata": {},
   "outputs": [
    {
     "ename": "",
     "evalue": "",
     "output_type": "error",
     "traceback": [
      "\u001b[1;31mCannot execute code, session has been disposed. Please try restarting the Kernel."
     ]
    },
    {
     "ename": "",
     "evalue": "",
     "output_type": "error",
     "traceback": [
      "\u001b[1;31mThe Kernel crashed while executing code in the the current cell or a previous cell. Please review the code in the cell(s) to identify a possible cause of the failure. Click <a href='https://aka.ms/vscodeJupyterKernelCrash'>here</a> for more info. View Jupyter <a href='command:jupyter.viewOutput'>log</a> for further details."
     ]
    },
    {
     "ename": "",
     "evalue": "",
     "output_type": "error",
     "traceback": [
      "\u001b[1;31mCannot execute code, session has been disposed. Please try restarting the Kernel."
     ]
    },
    {
     "ename": "",
     "evalue": "",
     "output_type": "error",
     "traceback": [
      "\u001b[1;31mThe Kernel crashed while executing code in the the current cell or a previous cell. Please review the code in the cell(s) to identify a possible cause of the failure. Click <a href='https://aka.ms/vscodeJupyterKernelCrash'>here</a> for more info. View Jupyter <a href='command:jupyter.viewOutput'>log</a> for further details."
     ]
    }
   ],
   "source": [
    "# Creating a large list that consumes a significant amount of memory\n",
    "try:\n",
    "    large_list = [1] * (10 ** 12)  \n",
    "    \n",
    "    \"\"\"The phrase [1] * (10 ** 12) generates a \n",
    "    list by repeatedly repeating the element [1].\"\"\"\n",
    "\n",
    "except MemoryError:\n",
    "    print(\"Insufficient memory for the list.\")"
   ]
  },
  {
   "cell_type": "markdown",
   "metadata": {},
   "source": [
    "# OverflowError"
   ]
  },
  {
   "cell_type": "code",
   "execution_count": null,
   "metadata": {},
   "outputs": [
    {
     "name": "stdout",
     "output_type": "stream",
     "text": [
      "7888609052210118054117285652827862296732064351090230047702789306640625000000000000000000000000000000000000000000000000000000000000000000000000000000000000000000000000000000000000000000000000000000000000000000000000000000000000000000000000000000000000000000000000000000000000000000000000000000000000000000000000000000000000000000000000000000000000000000000000000000000000\n"
     ]
    }
   ],
   "source": [
    "\"\"\"Raised when the result of an arithmetic operation is too large \n",
    "    to be expressed by the normal number format.\"\"\"\n",
    "try:\n",
    "    result = 5000 ** 100  # Attempting to calculate an extremely large number\n",
    "\n",
    "except OverflowError:\n",
    "    print(\"Error: Calculation resulted in an overflow.\")\n",
    "except ValueError:\n",
    "    print(\"Exceeds the limit (4300) for integer string conversion; \")\n",
    "else: \n",
    "    print(result)"
   ]
  },
  {
   "cell_type": "markdown",
   "metadata": {},
   "source": [
    "# AttributeError"
   ]
  },
  {
   "cell_type": "code",
   "execution_count": null,
   "metadata": {},
   "outputs": [
    {
     "name": "stdout",
     "output_type": "stream",
     "text": [
      "'age' object has no attribute.\n"
     ]
    }
   ],
   "source": [
    "try:\n",
    "\n",
    "    age = 20\n",
    "\n",
    "    # Using append method\n",
    "    age.append(12)\n",
    "\n",
    "except AttributeError:\n",
    "    print(\"'age' object has no attribute.\")\n",
    "else: \n",
    "    print(result)"
   ]
  },
  {
   "cell_type": "markdown",
   "metadata": {},
   "source": [
    "# SyntaxError"
   ]
  },
  {
   "cell_type": "code",
   "execution_count": null,
   "metadata": {},
   "outputs": [
    {
     "ename": "SyntaxError",
     "evalue": "invalid syntax (3103513123.py, line 3)",
     "output_type": "error",
     "traceback": [
      "\u001b[0;36m  Cell \u001b[0;32mIn[14], line 3\u001b[0;36m\u001b[0m\n",
      "\u001b[0;31m    age = 20\u001b[0m\n",
      "\u001b[0m    ^\u001b[0m\n",
      "\u001b[0;31mSyntaxError\u001b[0m\u001b[0;31m:\u001b[0m invalid syntax\n"
     ]
    }
   ],
   "source": [
    "try:\n",
    "    print(\"John age is:\"\n",
    "    age = 20\n",
    "\n",
    "except SyntaxError:\n",
    "    print(\"Error: Invalid syntax.\")"
   ]
  },
  {
   "cell_type": "markdown",
   "metadata": {},
   "source": [
    "# IndentationError"
   ]
  },
  {
   "cell_type": "code",
   "execution_count": null,
   "metadata": {},
   "outputs": [
    {
     "ename": "IndentationError",
     "evalue": "unexpected indent (3796207948.py, line 3)",
     "output_type": "error",
     "traceback": [
      "\u001b[0;36m  Cell \u001b[0;32mIn[15], line 3\u001b[0;36m\u001b[0m\n",
      "\u001b[0;31m    age = 50\u001b[0m\n",
      "\u001b[0m    ^\u001b[0m\n",
      "\u001b[0;31mIndentationError\u001b[0m\u001b[0;31m:\u001b[0m unexpected indent\n"
     ]
    }
   ],
   "source": [
    "try:\n",
    "    name = \"John\"\n",
    "        age = 50\n",
    "\n",
    "except IndentationError:\n",
    "    print(\"There is an IndentationError\")"
   ]
  },
  {
   "cell_type": "markdown",
   "metadata": {},
   "source": [
    "# NameError"
   ]
  },
  {
   "cell_type": "code",
   "execution_count": null,
   "metadata": {},
   "outputs": [
    {
     "name": "stdout",
     "output_type": "stream",
     "text": [
      "NameError is there\n"
     ]
    }
   ],
   "source": [
    "try:\n",
    "    side = \"4\"\n",
    "    print(area)  # Attempting to access an undefined variable\n",
    "\n",
    "except NameError:\n",
    "    print(\"NameError is there\")"
   ]
  },
  {
   "cell_type": "code",
   "execution_count": null,
   "metadata": {},
   "outputs": [],
   "source": []
  },
  {
   "cell_type": "markdown",
   "metadata": {},
   "source": [
    "# User-defined Exceptions\n",
    "\n",
    "<p><strong>By deriving a new class</strong> from the default Exception class in Python, we can define our own exception types.</p>"
   ]
  },
  {
   "cell_type": "code",
   "execution_count": null,
   "metadata": {},
   "outputs": [],
   "source": [
    "class MyCustomError(Exception):\n",
    "    pass"
   ]
  },
  {
   "cell_type": "markdown",
   "metadata": {},
   "source": [
    "<p>In the above code, <code>MyCustomError</code> is derived from the built-in <code>Exception</code> class. You can use this in your code by using the <code>raise</code> statement.</p>"
   ]
  },
  {
   "cell_type": "code",
   "execution_count": null,
   "metadata": {},
   "outputs": [
    {
     "ename": "MyCustomError",
     "evalue": "This is a custom error",
     "output_type": "error",
     "traceback": [
      "\u001b[0;31m---------------------------------------------------------------------------\u001b[0m\n",
      "\u001b[0;31mMyCustomError\u001b[0m                             Traceback (most recent call last)\n",
      "Cell \u001b[0;32mIn[3], line 1\u001b[0m\n",
      "\u001b[0;32m----> 1\u001b[0m \u001b[39mraise\u001b[39;00m MyCustomError(\u001b[39m\"\u001b[39m\u001b[39mThis is a custom error\u001b[39m\u001b[39m\"\u001b[39m)\n",
      "\n",
      "\u001b[0;31mMyCustomError\u001b[0m: This is a custom error"
     ]
    }
   ],
   "source": [
    "raise MyCustomError(\"This is a custom error\")"
   ]
  },
  {
   "cell_type": "code",
   "execution_count": null,
   "metadata": {},
   "outputs": [],
   "source": []
  },
  {
   "cell_type": "code",
   "execution_count": null,
   "metadata": {},
   "outputs": [],
   "source": [
    "# define user-defined exceptions\n",
    "class WrongAge(Exception):\n",
    "    \"Raised when the input value is less than 100\"\n",
    "    pass"
   ]
  },
  {
   "cell_type": "code",
   "execution_count": null,
   "metadata": {},
   "outputs": [
    {
     "name": "stdout",
     "output_type": "stream",
     "text": [
      "Invalid Age: You are not allowed to work\n"
     ]
    }
   ],
   "source": [
    "# you need to guess this number\n",
    "n = 18\n",
    "\n",
    "try:\n",
    "    input_num = int(input(\"Enter a age: \"))\n",
    "    if input_num < n:\n",
    "        raise WrongAge # calling your custom exception\n",
    "    else:\n",
    "        print(\"You can work\")\n",
    "except WrongAge:\n",
    "    print(\"Invalid Age: You are not allowed to work\")"
   ]
  },
  {
   "cell_type": "markdown",
   "metadata": {},
   "source": [
    "# Logging\n",
    "\n",
    "<ul>\n",
    "<li><strong>Logging</strong> is a technique for monitoring events that take place when some software is in use.</li>\n",
    "<li>For the creation, operation, and debugging of software, logging is crucial.</li>\n",
    "<li>There are very little odds that you would find the source of the issue if your programme fails and you don't have any logging records.</li>\n",
    "<li>Additionally, it will take a lot of time to identify the cause.&nbsp;</li>\n",
    "</ul>"
   ]
  },
  {
   "cell_type": "code",
   "execution_count": null,
   "metadata": {},
   "outputs": [
    {
     "name": "stderr",
     "output_type": "stream",
     "text": [
      "DEBUG:root:This is a debug message\n",
      "INFO:root:This is an info message\n",
      "WARNING:root:This is a warning message\n",
      "ERROR:root:This is an error message\n",
      "CRITICAL:root:This is a critical message\n"
     ]
    }
   ],
   "source": [
    "# first import the logging library\n",
    "import logging\n",
    "\n",
    "\"\"\" In the code above, we first import the logging module, then we call the \n",
    "    basicConfig method to configure the logging. \n",
    "    \n",
    "    We set the level to DEBUG, which means that all logs of level \n",
    "    DEBUG and above will be tracked.\"\"\"\n",
    "\n",
    "logging.basicConfig(level=logging.DEBUG)\n",
    "\n",
    "# Logging Level: severity of the event being logged\n",
    "# Least severe to most severe\n",
    "logging.debug('This is a debug message')\n",
    "logging.info('This is an info message')\n",
    "logging.warning('This is a warning message')\n",
    "logging.error('This is an error message')\n",
    "logging.critical('This is a critical message')\n"
   ]
  },
  {
   "cell_type": "markdown",
   "metadata": {},
   "source": [
    "<ul>\n",
    "<li>Some programmers utilise the idea of&nbsp;<strong>\"Printing\"</strong> the statements to check whether they were correctly performed or if an error had occurred.</li>\n",
    "<li>However, printing is not a smart move. For basic scripts, it might be the answer to your problems, however the printing solution will fall short for complex programmes.</li>\n",
    "<li>A built-in Python package called logging enables publishing status messages to files or other output streams. The file may provide details about which portion of the code is run and any issues that have come up. </li>\n",
    "</ul>"
   ]
  },
  {
   "cell_type": "markdown",
   "metadata": {},
   "source": [
    "<ul>\n",
    "<li>\n",
    "<p>Here are the different log levels in increasing order of severity:</p>\n",
    "<ul>\n",
    "<li>DEBUG: Detailed information, typically of interest only when diagnosing problems.</li>\n",
    "<li>INFO: Confirmation that things are working as expected.</li>\n",
    "<li>WARNING: An indication that something unexpected happened, or may happen in the future (e.g. &lsquo;disk space low&rsquo;). The software is still working as expected.</li>\n",
    "<li>ERROR: More serious problem that prevented the software from performing a function.</li>\n",
    "<li>CRITICAL: A very serious error, indicating that the program itself may be unable to continue running.</li>\n",
    "</ul>\n",
    "</li>\n",
    "</ul>"
   ]
  },
  {
   "cell_type": "markdown",
   "metadata": {},
   "source": [
    "# Debug"
   ]
  },
  {
   "cell_type": "code",
   "execution_count": null,
   "metadata": {},
   "outputs": [
    {
     "name": "stderr",
     "output_type": "stream",
     "text": [
      "DEBUG:root:Variables are 1 and 2\n"
     ]
    },
    {
     "data": {
      "text/plain": [
       "3"
      ]
     },
     "metadata": {},
     "output_type": "display_data"
    }
   ],
   "source": [
    "import logging\n",
    "\n",
    "logging.basicConfig(level=logging.DEBUG)\n",
    "\n",
    "def add(x, y):\n",
    "    logging.debug('Variables are %s and %s', x, y)\n",
    "    return x + y\n",
    "\n",
    "add(1, 2)\n"
   ]
  },
  {
   "cell_type": "markdown",
   "metadata": {},
   "source": [
    "# Info"
   ]
  },
  {
   "cell_type": "code",
   "execution_count": null,
   "metadata": {},
   "outputs": [
    {
     "name": "stderr",
     "output_type": "stream",
     "text": [
      "INFO:root:User Admin User logged in\n"
     ]
    }
   ],
   "source": [
    "import logging\n",
    "\n",
    "logging.basicConfig(level=logging.INFO)\n",
    "\n",
    "def login(user):\n",
    "    logging.info('User %s logged in', user)\n",
    "\n",
    "login('Admin User')\n"
   ]
  },
  {
   "cell_type": "markdown",
   "metadata": {},
   "source": [
    "# Warning"
   ]
  },
  {
   "cell_type": "code",
   "execution_count": null,
   "metadata": {},
   "outputs": [
    {
     "name": "stderr",
     "output_type": "stream",
     "text": [
      "WARNING:root:Sorry you have Low balance: 10000\n"
     ]
    }
   ],
   "source": [
    "import logging\n",
    "\n",
    "logging.basicConfig(level=logging.WARNING)\n",
    "\n",
    "def MyBalance(amount):\n",
    "    if amount < 40000:\n",
    "        logging.warning('Sorry you have Low balance: %s', amount)\n",
    "\n",
    "MyBalance(10000)\n"
   ]
  },
  {
   "cell_type": "markdown",
   "metadata": {},
   "source": [
    "# Error"
   ]
  },
  {
   "cell_type": "code",
   "execution_count": null,
   "metadata": {},
   "outputs": [
    {
     "name": "stderr",
     "output_type": "stream",
     "text": [
      "ERROR:root:You are trying to divide by zero, which is not allowed\n"
     ]
    }
   ],
   "source": [
    "import logging\n",
    "\n",
    "logging.basicConfig(level=logging.ERROR)\n",
    "\n",
    "def LetUsDivide(n, d):\n",
    "    try:\n",
    "        result = n / d\n",
    "    except ZeroDivisionError:\n",
    "        logging.error('You are trying to divide by zero, which is not allowed')\n",
    "    else:\n",
    "        return result\n",
    "\n",
    "LetUsDivide(4, 0)\n"
   ]
  },
  {
   "cell_type": "markdown",
   "metadata": {},
   "source": [
    "# Critical Errors"
   ]
  },
  {
   "cell_type": "code",
   "execution_count": null,
   "metadata": {},
   "outputs": [
    {
     "name": "stderr",
     "output_type": "stream",
     "text": [
      "CRITICAL:root:System failure: You need to handle the issue now\n"
     ]
    }
   ],
   "source": [
    "import logging\n",
    "\n",
    "logging.basicConfig(level=logging.CRITICAL)\n",
    "\n",
    "def LetUsCheckSystem(sys):\n",
    "    if sys != 'OK':\n",
    "        logging.critical('System failure: %s', sys)\n",
    "\n",
    "LetUsCheckSystem('You need to handle the issue now')\n"
   ]
  },
  {
   "cell_type": "markdown",
   "metadata": {},
   "source": [
    "# Save to a file"
   ]
  },
  {
   "cell_type": "code",
   "execution_count": null,
   "metadata": {},
   "outputs": [],
   "source": [
    "import os\n",
    "\n",
    "# Specify the directory and file\n",
    "dir_path = r'C:\\Users\\Dell\\Desktop\\June\\Latest\\iNeuron\\Sessions\\17_18June2023'\n",
    "log_file = 'system.txt'\n",
    "full_path = os.path.join(dir_path, log_file)\n",
    "\n",
    "# Check if the directory exists and create it if necessary\n",
    "os.makedirs(dir_path, exist_ok=True)\n",
    "\n",
    "# Try writing a test message to the file\n",
    "with open(full_path, 'w') as f:\n",
    "    f.write('This is a test message')\n"
   ]
  },
  {
   "cell_type": "code",
   "execution_count": null,
   "metadata": {},
   "outputs": [
    {
     "name": "stdout",
     "output_type": "stream",
     "text": [
      "C:\\Users\\Dell\\Desktop\\June\\Latest\\iNeuron\\Sessions\\17_18June2023\n"
     ]
    }
   ],
   "source": [
    "import os\n",
    "print(os.getcwd())\n"
   ]
  },
  {
   "cell_type": "code",
   "execution_count": null,
   "metadata": {},
   "outputs": [
    {
     "name": "stderr",
     "output_type": "stream",
     "text": [
      "CRITICAL:root:System failure: You need to handle the issue now\n"
     ]
    }
   ],
   "source": [
    "import os\n",
    "from os.path import dirname, join\n",
    "import logging\n",
    "\n",
    "# Specify the directory and file\n",
    "dir_path = \"/Users/abhijitpaul/Documents/Personal/Learning/iNeuron/Classes\"\n",
    "log_file = 'system.txt'\n",
    "full_path = join(dir_path, log_file)\n",
    "\n",
    "# Check if the directory exists and create it if necessary\n",
    "os.makedirs(dir_path, exist_ok=True)\n",
    "\n",
    "# Set up logging\n",
    "# Get a logger instance (this will fetch the root logger)\n",
    "logger = logging.getLogger()\n",
    "\n",
    "# Set the level of the logger to CRITICAL\n",
    "# This means it will handle events of level CRITICAL and above\n",
    "logger.setLevel(logging.CRITICAL)\n",
    "\n",
    "# Create a FileHandler instance to write logs to a file\n",
    "handler = logging.FileHandler(full_path)\n",
    "\n",
    "# Set the format of the logs using a Formatter\n",
    "# This format includes the log timestamp, log level and log message\n",
    "handler.setFormatter(logging.Formatter('%(asctime)s:%(levelname)s:%(message)s'))\n",
    "\n",
    "# Add the handler to the logger\n",
    "# This connects the logger to the handler so that logs get written to the file\n",
    "logger.addHandler(handler)\n",
    "\n",
    "\n",
    "def LetUsCheckSystem(sys):\n",
    "    if sys != 'OK':\n",
    "        logging.critical('System failure: %s', sys)\n",
    "\n",
    "LetUsCheckSystem('You need to handle the issue now')\n",
    "handler.close()\n"
   ]
  },
  {
   "cell_type": "code",
   "execution_count": null,
   "metadata": {},
   "outputs": [
    {
     "name": "stdout",
     "output_type": "stream",
     "text": [
      "> \u001b[1;32m<ipython-input-39-7ea871499ca9>\u001b[0m(5)\u001b[0;36maddition\u001b[1;34m()\u001b[0m\n",
      "\u001b[1;32m      3 \u001b[1;33m\u001b[1;32mdef\u001b[0m \u001b[0maddition\u001b[0m\u001b[1;33m(\u001b[0m\u001b[0ma\u001b[0m\u001b[1;33m,\u001b[0m \u001b[0mb\u001b[0m\u001b[1;33m)\u001b[0m\u001b[1;33m:\u001b[0m\u001b[1;33m\u001b[0m\u001b[1;33m\u001b[0m\u001b[0m\n",
      "\u001b[0m\u001b[1;32m      4 \u001b[1;33m    \u001b[0mpdb\u001b[0m\u001b[1;33m.\u001b[0m\u001b[0mset_trace\u001b[0m\u001b[1;33m(\u001b[0m\u001b[1;33m)\u001b[0m  \u001b[1;31m# Set a breakpoint here\u001b[0m\u001b[1;33m\u001b[0m\u001b[1;33m\u001b[0m\u001b[0m\n",
      "\u001b[0m\u001b[1;32m----> 5 \u001b[1;33m    \u001b[0mresult\u001b[0m \u001b[1;33m=\u001b[0m \u001b[0ma\u001b[0m \u001b[1;33m+\u001b[0m \u001b[0mb\u001b[0m\u001b[1;33m\u001b[0m\u001b[1;33m\u001b[0m\u001b[0m\n",
      "\u001b[0m\u001b[1;32m      6 \u001b[1;33m    \u001b[1;32mreturn\u001b[0m \u001b[0mresult\u001b[0m\u001b[1;33m\u001b[0m\u001b[1;33m\u001b[0m\u001b[0m\n",
      "\u001b[0m\u001b[1;32m      7 \u001b[1;33m\u001b[1;33m\u001b[0m\u001b[0m\n",
      "\u001b[0m\n",
      "ipdb> 2\n",
      "2\n",
      "ipdb> 2\n",
      "2\n",
      "ipdb> 2\n",
      "2\n"
     ]
    }
   ],
   "source": [
    "import pdb\n",
    "\n",
    "def addition(a, b):\n",
    "    pdb.set_trace()  # Set a breakpoint here\n",
    "    result = a + b\n",
    "    return result\n",
    "\n",
    "print(addition(5, 7))\n"
   ]
  },
  {
   "cell_type": "markdown",
   "metadata": {},
   "source": [
    "## OOPs - Object Oriented Programming\n",
    "\n",
    "In Python, everything is an object.\n",
    "\n",
    "#### CLASS\n",
    "* It is a blueprint of an object or you can say its the design of an object\n",
    "\n",
    "e.g Bank Account --> Class\n",
    "\n",
    "Attributes\n",
    "- Acct No.\n",
    "- Acct Holder Name\n",
    "- Balance\n",
    "- Account Type\n",
    "- IFSC \n",
    "- MObile No\n",
    "\n",
    "Methods\n",
    "- Deposit()\n",
    "- Withdrawal()\n",
    "- Transfer()\n",
    "\n",
    "\n",
    "#### OBJECT\n",
    "* Creating object of a class which will allocate memory in the system to load the class members and utilize it"
   ]
  },
  {
   "cell_type": "code",
   "execution_count": 97,
   "metadata": {},
   "outputs": [
    {
     "name": "stdout",
     "output_type": "stream",
     "text": [
      "Type of object is <class '__main__.Person'>\n"
     ]
    }
   ],
   "source": [
    "# Empty Class definition\n",
    "class Person:\n",
    "    pass\n",
    "\n",
    "# Creating object of Person class which will allocate\n",
    "# a memory in the system to load the class and utilize it\n",
    "p = Person()\n",
    "\n",
    "print(f\"Type of object is {type(p)}\")"
   ]
  },
  {
   "cell_type": "code",
   "execution_count": 101,
   "metadata": {},
   "outputs": [
    {
     "data": {
      "text/plain": [
       "'Johnny'"
      ]
     },
     "execution_count": 101,
     "metadata": {},
     "output_type": "execute_result"
    }
   ],
   "source": [
    "# Adding attribute in runtime is not a good practice\n",
    "p.name = \"Johnny\"\n",
    "p.name"
   ]
  },
  {
   "cell_type": "markdown",
   "metadata": {},
   "source": [
    "### Class Variable vs Instance Variable\n",
    "\n",
    "| 1 | 2 | 3 |\n",
    "|:---------:|:-------------:|:--------------:|\n",
    "**Parameter**|**Class Variables**|**Instance Variables**\n",
    "Definition|Class variables are defined within the class but outside of any class methods.|Instance variables are defined within class methods, typically the constructor|\n",
    "Scope|Changes made to the class variable affect all instances of that class.|Changes made to the instance variable does not affect all instances.|\n",
    "Initialization|Class variables can be initialized either inside the class definition or outside the class definition.|Instance variables are typically initialized in the constructor of the class.|\n",
    "Access|Class variables are accessed using the class name, followed by the variable name.|Instance variables are accessed using the instance name, followed by the variable name.|\n",
    "Usage|Class variables are useful for storing data that is shared among all instances of a class, such as constants or default values.|Instance variables are used to store data that is unique to each instance of a class, such as object properties.|"
   ]
  },
  {
   "cell_type": "markdown",
   "metadata": {},
   "source": [
    "### Dunder Method or Magic Methods\n",
    "\n",
    "* Dunder methods are methods that allow instances of a class to interact with the built-in functions and operators of the class itself provided by Python Language\n",
    "\n",
    "* In other words, all the operations we do on a Python object is implemented using these dunder methods\n",
    "\n",
    "* The two underscores are there just to prevent name collision with other methods implemented by unsuspecting programmers.\n",
    "\n",
    "\n",
    "\n",
    "**`dir(<class instance>)`**: Prints out list of all dunder methods available"
   ]
  },
  {
   "cell_type": "markdown",
   "metadata": {},
   "source": [
    "Few of the useful dunder methods are described below"
   ]
  },
  {
   "cell_type": "markdown",
   "metadata": {},
   "source": [
    "### `__init__`\n",
    "\n",
    "* Its a constructor or initializer method provided in a class\n",
    "* Its called every time an object is created from a class\n",
    "* Its purpose it to initialize the object's attributes\n",
    "* Its only used within class\n",
    "\n",
    "**self** --> Its denotes the current instance of the class"
   ]
  },
  {
   "cell_type": "code",
   "execution_count": 107,
   "metadata": {},
   "outputs": [
    {
     "name": "stdout",
     "output_type": "stream",
     "text": [
      "First Name: Abhijit\n",
      "Last Name: Paul\n"
     ]
    }
   ],
   "source": [
    "# Will redefine the class\n",
    "class Person:\n",
    "    def __init__(self, first_name, last_name) -> None:\n",
    "        \"\"\"\n",
    "        \"__init__ is the dunder method that INITialises the instance.\n",
    "        \n",
    "        To create a Person, we need to know the first name and the last name,\n",
    "        so that will be passed as an argument later, e.g. with Person(\"Abhijit\", \"Paul).\n",
    "        To make sure the instance of the class when created knows its own first_name & last_name,\n",
    "        we save it with self.first_name = first_name & self.last_name = last_name\n",
    "        \n",
    "        \"\"\"\n",
    "        self.first_name = first_name  \n",
    "        self.last_name = last_name \n",
    "        \n",
    "p = Person(\"Abhijit\", \"Paul\")  # These two arguments will be initialized in `__init__()` \n",
    "print(f\"First Name: {p.first_name}\")\n",
    "print(f\"Last Name: {p.last_name}\")"
   ]
  },
  {
   "cell_type": "markdown",
   "metadata": {},
   "source": [
    "### `__repr__`\n",
    "Computes \"official\" string representation of class"
   ]
  },
  {
   "cell_type": "code",
   "execution_count": 110,
   "metadata": {},
   "outputs": [
    {
     "name": "stdout",
     "output_type": "stream",
     "text": [
      "Print Person instance: This is a Person class without customized representation\n"
     ]
    }
   ],
   "source": [
    "class Person:\n",
    "    def __repr__(self) -> None:\n",
    "        return f\"This is a Person class without customized representation\"\n",
    "        \n",
    "p = Person()\n",
    "print(f\"Print Person instance: {p}\")"
   ]
  },
  {
   "cell_type": "markdown",
   "metadata": {},
   "source": [
    "### `__str__`\n",
    "\n",
    "When we print an object (class instance), it calls the `__str__()` function and prints the contents written within"
   ]
  },
  {
   "cell_type": "code",
   "execution_count": 111,
   "metadata": {},
   "outputs": [
    {
     "name": "stdout",
     "output_type": "stream",
     "text": [
      "Print Person instance: This is a Person class without customized representation\n"
     ]
    }
   ],
   "source": [
    "class Person:\n",
    "    def __str__(self) -> None:\n",
    "        return f\"This is a Person class without customized representation\"\n",
    "        \n",
    "p = Person()\n",
    "print(f\"Print Person instance: {p}\")"
   ]
  },
  {
   "cell_type": "markdown",
   "metadata": {},
   "source": [
    "### `__getattr__`\n",
    "Get value of the attribute defined in a class"
   ]
  },
  {
   "cell_type": "code",
   "execution_count": 121,
   "metadata": {},
   "outputs": [
    {
     "name": "stdout",
     "output_type": "stream",
     "text": [
      "Get Attribute: Abhijit\n"
     ]
    }
   ],
   "source": [
    "class Person:\n",
    "    def __init__(self, first_name, last_name) -> None:\n",
    "        self.first_name = first_name  \n",
    "        self.last_name = last_name \n",
    "        \n",
    "p = Person(\"Abhijit\", \"Paul\")  # These two arguments will be initialized in `__init__()` \n",
    "print(f\"Get Attribute: {p.__getattribute__('first_name')}\")"
   ]
  },
  {
   "cell_type": "markdown",
   "metadata": {},
   "source": [
    "We will create a Class called 'ToDo' which will keep a track of to-do list"
   ]
  },
  {
   "cell_type": "code",
   "execution_count": 125,
   "metadata": {},
   "outputs": [],
   "source": [
    "class ToDo:\n",
    "    def __init__(self, owner: str) -> None:\n",
    "        self.owner = owner\n",
    "        self.tasks = []\n",
    "        \n",
    "    def add_task(self, task: str) -> None:\n",
    "        self.tasks.append(task)\n",
    "        \n",
    "    def complete_task(self, task: str) -> None:\n",
    "        if task in self.tasks:\n",
    "            self.tasks.remove(task)\n",
    "            print(f\"Task '{task}' completed\")\n",
    "        else:\n",
    "            print(f\"Task is not found\")\n",
    "    \n",
    "    def display_tasks(self) -> None:\n",
    "        print(f\"The Todo task of {self.owner}:\")\n",
    "        for task in self.tasks:\n",
    "            print(task)"
   ]
  },
  {
   "cell_type": "code",
   "execution_count": 126,
   "metadata": {},
   "outputs": [
    {
     "name": "stdout",
     "output_type": "stream",
     "text": [
      "The Todo task of Abhijit:\n",
      "I will wake up at 8am\n",
      "I will attend iNeuron Live Session\n",
      "Task 'I will wake up at 8am' completed\n",
      "The Todo task of Abhijit:\n",
      "I will attend iNeuron Live Session\n"
     ]
    }
   ],
   "source": [
    "todo = ToDo(\"Abhijit\")\n",
    "todo.add_task(\"I will wake up at 8am\")\n",
    "todo.add_task(\"I will attend iNeuron Live Session\")\n",
    "\n",
    "todo.display_tasks()\n",
    "\n",
    "todo.complete_task(\"I will wake up at 8am\")\n",
    "\n",
    "todo.display_tasks()"
   ]
  },
  {
   "cell_type": "markdown",
   "metadata": {},
   "source": [
    "## Object-Oriented Programming (OOPs)\n",
    "\n",
    "It is a programming paradigm that uses objects and classes in programming.\n",
    "\n",
    "### OOPs Concepts in Python\n",
    "1. Inheritance\n",
    "2. Encapsulation\n",
    "3. Abstraction\n",
    "4. Polymorphism"
   ]
  },
  {
   "cell_type": "markdown",
   "metadata": {},
   "source": [
    "## Inheritance\n",
    "\n",
    "* Inheritance is one of the characteristics of Object Oriented Programming paradigm.\n",
    "* It facilitates the passing of attributes and methods of a class (base) to another class (derived)\n",
    "* A child class acquires the properties and can access all the data members and functions defined in the parent class. \n",
    "* Moreover, a child class can also provide its specific implementation to the functions of the parent class.\n",
    "\n",
    "*Usages*:\n",
    "* Its primary usage is code reusability because we can inherit all attributes and methods related to a particular functionality which is already written in a class instead of writing the functionality from scratch.\n",
    "\n",
    "*Types*:\n",
    "* Single Inheritance\n",
    "* Multiple Inheritance\n",
    "* Multilevel Inheritance\n"
   ]
  },
  {
   "cell_type": "markdown",
   "metadata": {},
   "source": [
    "### Single Inheritance\n",
    "\n",
    "In Single Inheritance, one child inherits from one parent i.e. there will be a single base class and a single derived class"
   ]
  },
  {
   "cell_type": "code",
   "execution_count": 21,
   "metadata": {},
   "outputs": [
    {
     "name": "stdout",
     "output_type": "stream",
     "text": [
      "Name: Akshay\n",
      "Gender: Male\n"
     ]
    }
   ],
   "source": [
    "# E.g. Single Inheritance\n",
    "class Human:  # Base Class\n",
    "    def __init__(self, name) -> None:\n",
    "        self.name = name\n",
    "    \n",
    "    def info(self):\n",
    "        print(f\"Name: {self.name}\")\n",
    "        \n",
    "class Male(Human):  # Derived Class from a Single Base Class\n",
    "    def __init__(self, name, gender) -> None:\n",
    "        super().__init__(name)\n",
    "        self.gender = gender\n",
    "        \n",
    "    def info(self):\n",
    "        super().info()  # Reusing the info() method of base class\n",
    "        print(f\"Gender: {self.gender}\")\n",
    "        \n",
    "male = Male(\"Akshay\", \"Male\")\n",
    "male.info()"
   ]
  },
  {
   "cell_type": "markdown",
   "metadata": {},
   "source": [
    "### Multilevel Inheritance\n",
    "\n",
    "In Multilevel Inheritance, one child class inherits attributes and methods from a parent class and subsequently becomes the parent class of another child class."
   ]
  },
  {
   "cell_type": "code",
   "execution_count": 23,
   "metadata": {},
   "outputs": [
    {
     "name": "stdout",
     "output_type": "stream",
     "text": [
      "Srinivas 24 Assam\n"
     ]
    }
   ],
   "source": [
    "class Parent:\n",
    "    def __init__(self,name):\n",
    "        self.name = name\n",
    "    \n",
    "    def getName(self):\n",
    "        return self.name\n",
    "\n",
    "class Child(Parent):\n",
    "    def __init__(self,name,age):\n",
    "        super().__init__(name)\n",
    "        self.age = age\n",
    "        \n",
    "    def getAge(self):\n",
    "        return self.age\n",
    "    \n",
    "class Grandchild(Child):\n",
    "    def __init__(self,name,age,location):\n",
    "        super().__init__(name,age)\n",
    "        self.location=location\n",
    "        \n",
    "    def getLocation(self):\n",
    "        return self.location\n",
    "    \n",
    "gc = Grandchild(\"Srinivas\",24,\"Assam\")\n",
    "print(gc.getName(), gc.getAge(), gc.getLocation())"
   ]
  },
  {
   "cell_type": "markdown",
   "metadata": {},
   "source": [
    "### Multiple Inheritance\n",
    "\n",
    "In Multiple Inheritance, one child class can inherit attributes and methods from multiple parent classes i.e there will be multiple base class and a single derived class"
   ]
  },
  {
   "cell_type": "code",
   "execution_count": 22,
   "metadata": {},
   "outputs": [
    {
     "name": "stdout",
     "output_type": "stream",
     "text": [
      "Name: TT & Age: 30\n",
      "Company Name: TT & Domain: Trading Platform\n",
      "Salary: 10000\n"
     ]
    }
   ],
   "source": [
    "# E.g. Multiple Inheritance\n",
    "class Person:  # Base Class\n",
    "    def __init__(self, name, age) -> None:\n",
    "        self.name = name\n",
    "        self.age = age\n",
    "    \n",
    "    def person_info(self):\n",
    "        print(f\"Name: {self.name} & Age: {self.age}\")\n",
    "        \n",
    "class Company:  # Base Class\n",
    "    def __init__(self, name, domain) -> None:\n",
    "        self.name = name\n",
    "        self.domain = domain\n",
    "    \n",
    "    def company_info(self):\n",
    "        print(f\"Company Name: {self.name} & Domain: {self.domain}\")\n",
    "        \n",
    "class Employee(Person, Company):  # Derived Class from a Single Base Class\n",
    "    def __init__(self, name, age, company_name, domain, salary):\n",
    "        Person.__init__(self, name, age)\n",
    "        Company.__init__(self, company_name, domain)\n",
    "        self.salary = salary\n",
    "        \n",
    "    def employee_info(self):\n",
    "        super().person_info()\n",
    "        super().company_info()\n",
    "        print(f\"Salary: {self.salary}\")\n",
    "        \n",
    "\n",
    "person1 = Employee(\"Abhijit\", 30, \"TT\", \"Trading Platform\", 10000)\n",
    "person1.employee_info()"
   ]
  },
  {
   "cell_type": "markdown",
   "metadata": {},
   "source": [
    "### MRO (Method Resolution Order)\n",
    "\n",
    "*   It is the order in which Python looks for a method in a hierarchy of classes.\n",
    "*   It plays vital role in the context of multiple inheritance as a single method may be found in multiple super classes\n",
    "*   Python constructs the order in which it will look for a method in the hierarchy of classes. \n",
    "*   It uses this order, known as MRO, to determine which method it actually calls.\n",
    "*   It is possible to see MRO of a class using mro() method of the class.\n",
    "\n",
    "\n",
    "**IMP RULE TO REMEMBER**: A Parent/Base/Super Class cannot be accessed before a Child/Derived/Subclass"
   ]
  },
  {
   "cell_type": "code",
   "execution_count": 32,
   "metadata": {},
   "outputs": [
    {
     "name": "stdout",
     "output_type": "stream",
     "text": [
      "A process()\n",
      "[<class '__main__.C'>, <class '__main__.A'>, <class '__main__.B'>, <class 'object'>]\n"
     ]
    }
   ],
   "source": [
    "#CASE1\n",
    "class A:\n",
    "    def process(self):\n",
    "        print('A process()')\n",
    "        \n",
    "class B:\n",
    "    pass\n",
    "\n",
    "class C(A, B):\n",
    "    pass\n",
    "\n",
    "obj = C()  \n",
    "obj.process()    \n",
    "print(C.mro())   # C -> A -> B -> ObjectCLass"
   ]
  },
  {
   "cell_type": "markdown",
   "metadata": {},
   "source": [
    "From MRO of class C, we get to know that Python looks for a method first in class C. Then it goes to A and then to B. \n",
    "\n",
    "So, first it goes to super class given first in the list then second super class, from left to right order. Then finally Object class, which is a super class for all classes."
   ]
  },
  {
   "cell_type": "code",
   "execution_count": 31,
   "metadata": {},
   "outputs": [
    {
     "name": "stdout",
     "output_type": "stream",
     "text": [
      "C process()\n",
      "[<class '__main__.D'>, <class '__main__.C'>, <class '__main__.A'>, <class '__main__.B'>, <class 'object'>]\n"
     ]
    }
   ],
   "source": [
    "#CASE2\n",
    "class A:\n",
    "    def process(self):\n",
    "        print('A process()')\n",
    "\n",
    "\n",
    "class B:\n",
    "    def process(self):\n",
    "        print('B process()')\n",
    "\n",
    "\n",
    "class C(A, B):\n",
    "    def process(self):\n",
    "        print('C process()')\n",
    "\n",
    "\n",
    "class D(C,B):\n",
    "    pass\n",
    "\n",
    "\n",
    "obj = D()\n",
    "obj.process()\n",
    "\n",
    "print(D.mro()) # D -> C -> A -> B -> ObjectCLass"
   ]
  },
  {
   "cell_type": "code",
   "execution_count": 39,
   "metadata": {},
   "outputs": [
    {
     "ename": "TypeError",
     "evalue": "Cannot create a consistent method resolution\norder (MRO) for bases A, B",
     "output_type": "error",
     "traceback": [
      "\u001b[0;31m---------------------------------------------------------------------------\u001b[0m",
      "\u001b[0;31mTypeError\u001b[0m                                 Traceback (most recent call last)",
      "Cell \u001b[0;32mIn[39], line 12\u001b[0m\n\u001b[1;32m      8\u001b[0m     \u001b[39mdef\u001b[39;00m \u001b[39mprocess\u001b[39m(\u001b[39mself\u001b[39m):\n\u001b[1;32m      9\u001b[0m         \u001b[39mprint\u001b[39m(\u001b[39m'\u001b[39m\u001b[39mB process()\u001b[39m\u001b[39m'\u001b[39m)\n\u001b[0;32m---> 12\u001b[0m \u001b[39mclass\u001b[39;00m \u001b[39mC\u001b[39;00m(A, B):\n\u001b[1;32m     13\u001b[0m     \u001b[39mpass\u001b[39;00m\n\u001b[1;32m     16\u001b[0m obj \u001b[39m=\u001b[39m C()\n",
      "\u001b[0;31mTypeError\u001b[0m: Cannot create a consistent method resolution\norder (MRO) for bases A, B"
     ]
    }
   ],
   "source": [
    "#CASE3 There are cases when Python cannot construct MRO owing to complexity of hierarchy. In such cases it will throw an error.\n",
    "class A:\n",
    "    def process(self):\n",
    "        print('A process()')\n",
    "\n",
    "\n",
    "class B(A):\n",
    "    def process(self):\n",
    "        print('B process()')\n",
    "\n",
    "\n",
    "class C(A, B):\n",
    "    pass\n",
    "\n",
    "\n",
    "obj = C()\n",
    "obj.process()  # C -> A -> B -> objectClass (A cannot be before B --> leading to MRO failure) "
   ]
  },
  {
   "cell_type": "markdown",
   "metadata": {},
   "source": [
    "The problem comes from the fact that class A is a super class for both C and B. If you construct MRO then it should be like this:\n",
    "C -> A -> B -> A"
   ]
  },
  {
   "cell_type": "markdown",
   "metadata": {},
   "source": [
    "### super() function &  Multiple Inheritance "
   ]
  },
  {
   "cell_type": "code",
   "execution_count": 45,
   "metadata": {},
   "outputs": [
    {
     "name": "stdout",
     "output_type": "stream",
     "text": [
      "A\n"
     ]
    }
   ],
   "source": [
    "# Scenario 1\n",
    "class A:\n",
    "    def __init__(self) -> None:\n",
    "        print(\"A\")\n",
    "        \n",
    "class B:\n",
    "    def __init__(self) -> None:\n",
    "        print(\"B\")\n",
    "        \n",
    "class C(A, B):\n",
    "    def __init__(self) -> None:\n",
    "        super().__init__()\n",
    "        \n",
    "obj = C()   # Here as well MRO came into picture. super() method calls the __init__() of its first superclass i.e. A in this case\n"
   ]
  },
  {
   "cell_type": "code",
   "execution_count": 49,
   "metadata": {},
   "outputs": [
    {
     "name": "stdout",
     "output_type": "stream",
     "text": [
      "Inside C. Type of self: <class '__main__.C'>\n",
      "Inside A. Type of self: <class '__main__.C'>\n",
      "A\n",
      "Inside B. Type of self: <class '__main__.C'>\n",
      "B\n"
     ]
    }
   ],
   "source": [
    "# Scenario 2: What if I want to access the __init__() method of both the super class in Multiple Inheritance?\n",
    "\n",
    "class A:\n",
    "    def __init__(self) -> None:\n",
    "        print(f\"Inside A. Type of self: {type(self)}\")  # But this will show that the 'self' if of type C\n",
    "        print(\"A\")\n",
    "        \n",
    "class B:\n",
    "    def __init__(self) -> None:\n",
    "        print(f\"Inside B. Type of self: {type(self)}\")  # But this will show that the 'self' if of type C\n",
    "        print(\"B\")\n",
    "        \n",
    "class C(A, B):\n",
    "    def __init__(self) -> None:\n",
    "        print(f\"Inside C. Type of self: {type(self)}\")\n",
    "        A.__init__(self)  # In this scenario, we can not use super() anymore.\n",
    "        B.__init__(self)  # Here we need to call the constructor of superclass is by Class Name directly\n",
    "obj = C()   # Here as well MRO came into picture. super() method calls the __init__() of its first superclass i.e. A in this case\n",
    "\n",
    "# Above is a limitation of using Multiple Inheritance in Python and we have to be cautious while using it"
   ]
  },
  {
   "cell_type": "markdown",
   "metadata": {},
   "source": [
    "## Encapsulation:\n",
    "* Its bundling of data along with the methods that operates on that data, into a single unit. e.g. Class, Containers\n",
    "* Its a way to restrict the direct access to both attributes and methods of an object, so that unauthorised users cannot access it.\n",
    "\n",
    "### Access Modifiers\n",
    "To implement encapsulation, we have different types of access modifiers.\n",
    "\n",
    "* Public: Attributes and methods declared as Public are easily accessible from any part of the program i.e. inside as well as outside the class. All data members and member functions of a class are public by default\n",
    "\n",
    "\n",
    "* Protected: Attributes and methods declared as Protected are accessible to only subclass or derived class of it.\n",
    "\n",
    "* Private: Attributes and methods declared as Private are only accessible within the class and not outside of it"
   ]
  },
  {
   "cell_type": "code",
   "execution_count": 2,
   "metadata": {},
   "outputs": [
    {
     "name": "stdout",
     "output_type": "stream",
     "text": [
      "Welcome to  Stark Industries\n",
      "Here  Steve  is working on  Mark 4\n",
      "The salary of Steve is 9999999\n"
     ]
    }
   ],
   "source": [
    "# define parent class Company\n",
    "class Company:\n",
    "    # constructor\n",
    "    def __init__(self, name, proj):\n",
    "        self.name = name      # name(name of company) is public\n",
    "        self._proj = proj     # proj(current project) is protected defined with single underscore\n",
    "    \n",
    "    # public function to show the details\n",
    "    def show(self):\n",
    "        print(\"The code of the company\")\n",
    "\n",
    "# define child class Emp\n",
    "class Emp(Company):\n",
    "    # constructor\n",
    "    def __init__(self, eName, sal, cName, proj):\n",
    "        # calling parent class constructor\n",
    "        super().__init__(cName, proj)\n",
    "        self.name = eName   # public member variable\n",
    "        self.__sal = sal    # private member variable defined with double underscore\n",
    "    \n",
    "    # public function to show salary details\n",
    "    def show_sal(self):\n",
    "        print(f\"The salary of {self.name} is {self.__sal}\")\n",
    "\n",
    "# creating instance of Company class\n",
    "c = Company(\"Stark Industries\", \"Mark 4\")\n",
    "# creating instance of Employee class\n",
    "e = Emp(\"Steve\", 9999999, c.name, c._proj)\n",
    "\n",
    "print(\"Welcome to \", c.name)\n",
    "print(\"Here \", e.name,\" is working on \",e._proj)\n",
    "\n",
    "# only the instance itself can change the __sal variable\n",
    "# and to show the value we have created a public function show_sal()\n",
    "e.show_sal()"
   ]
  },
  {
   "cell_type": "markdown",
   "metadata": {},
   "source": [
    "## Abstraction:\n",
    "* Its a process of handling complexity by hiding unnecessary information from the user.\n",
    "\n",
    "* It enables the user to implement more complex logic on top of the provided abstraction without understanding or even thinking about all the hidden complexities\n",
    "\n",
    "### Achieving Abstraction in Python\n",
    "In Python, abstraction can be achieved by using `abstract classes` and `abstract methods`\n",
    "\n",
    "**Abstract Method**: Its a method that is declared but doesn't contain the implementation.\n",
    "\n",
    "An abstract method in a base class identifies the functionality that should be implemented by all its subclasses. However, since the implementation of an abstract method would differ from one subclass to another, often the method body comprises just a pass statement. Every subclass of the base class will override this method with its implementation. \n",
    "\n",
    "**Abstract Class** A class containing abstract methods is called abstract class."
   ]
  },
  {
   "cell_type": "code",
   "execution_count": 7,
   "metadata": {},
   "outputs": [
    {
     "name": "stdout",
     "output_type": "stream",
     "text": [
      "Is `Rectangle` a subclass of `Shape`?: True\n",
      "Area of rectangle: 450\n",
      "Perimeter of rectangle: 90\n"
     ]
    }
   ],
   "source": [
    "# Note:\n",
    "# 1. A class is defined as an Abstract Class by inheriting from `ABCMeta` class [use metaclass=ABCMeta as an argument]\n",
    "# 2. A method is defined as an Abstract Method by preceding its definition with @abstractmethod (function decorator). \n",
    "\n",
    "from abc import ABCMeta, abstractmethod\n",
    "\n",
    "class Shape(metaclass=ABCMeta):\n",
    "    \n",
    "    def __init__(self, shapeType) -> None:\n",
    "        self.shapeType = shapeType\n",
    "    \n",
    "    @abstractmethod\n",
    "    def area(self):\n",
    "        pass\n",
    "    \n",
    "    @abstractmethod\n",
    "    def perimeter(self):\n",
    "        pass\n",
    "    \n",
    "class Rectangle(Shape):\n",
    "    def __init__(self, length, breadth) -> None:\n",
    "        self.length = length\n",
    "        self.breadth = breadth\n",
    "        super().__init__(\"Rectangle\")\n",
    "        \n",
    "    # If the abstract methods are not implement, then while instantiating Rectangle class, error will be thrown\n",
    "    # `Can't instantiate abstract class Rectangle with abstract methods area, perimeter`\n",
    "    \n",
    "    def area(self):  # Implemented the abstract method from base class\n",
    "        return self.length * self.breadth\n",
    "    \n",
    "    def perimeter(self):  # Implemented the abstract method from base class\n",
    "        return 2 * (self.length + self.breadth)\n",
    "    \n",
    "print(f\"Is `Rectangle` a subclass of `Shape`?: {issubclass(Rectangle, Shape)}\")\n",
    "\n",
    "rectangle = Rectangle(30, 15)\n",
    "print(f\"Area of rectangle: {rectangle.area()}\")\n",
    "print(f\"Perimeter of rectangle: {rectangle.perimeter()}\")"
   ]
  },
  {
   "cell_type": "markdown",
   "metadata": {},
   "source": [
    "## Polymorphism\n",
    "\n",
    "* Polymorphism means `having different forms`\n",
    "* In Python, polymorphism refers to a function having same name but being used in different ways and different scenarios.\n",
    "\n",
    "### Types\n",
    "There are two different ways we can achieve Polymorphism.\n",
    "* Compile Time Polymorphism (e.g. Method Overloading)\n",
    "* Run Time Polymorphism (e.g. Method Overriding)"
   ]
  },
  {
   "cell_type": "markdown",
   "metadata": {},
   "source": [
    "#### Method Overloading\n",
    "\n",
    "In this, more than one method in same class shares the same method name but different signatures.\n",
    "\n",
    "*Note: Python doesn't support method overloading, as the interpreter only detects the last method and ignores the previous ones.*\n",
    "\n",
    "**Workaround**: By Using Multiple Dispatch Decorator (Install `pip3 install multipledispatch`) we can implement the feature of Method Overloading"
   ]
  },
  {
   "cell_type": "code",
   "execution_count": 12,
   "metadata": {},
   "outputs": [
    {
     "name": "stdout",
     "output_type": "stream",
     "text": [
      "6\n",
      "60\n",
      "7.986000000000001\n"
     ]
    }
   ],
   "source": [
    "from multipledispatch import dispatch\n",
    "\n",
    "@dispatch(int, int)\n",
    "def product(first: int, second: int):\n",
    "    return first * second\n",
    "\n",
    "@dispatch(int, int, int)\n",
    "def product(first: int, second: int, third: int):\n",
    "    return first * second * third\n",
    "\n",
    "@dispatch(float, float, float)\n",
    "def product(first: float, second: float, third: float):\n",
    "    return first * second * third\n",
    "\n",
    "\n",
    "print(product(2,3))\n",
    "print(product(3,4,5))\n",
    "print(product(1.1,2.2, 3.3))"
   ]
  },
  {
   "cell_type": "markdown",
   "metadata": {},
   "source": [
    "#### Method Overriding\n",
    "\n",
    "* Its an OOPs concept and related to `Inheritance`. \n",
    "\n",
    "* When child class method overrides (inducing its own implementation) its parent class method having same name, parameters and return type, its called Method Overriding"
   ]
  },
  {
   "cell_type": "code",
   "execution_count": 16,
   "metadata": {},
   "outputs": [
    {
     "name": "stdout",
     "output_type": "stream",
     "text": [
      "32\n",
      "16.0\n"
     ]
    }
   ],
   "source": [
    "# Single Inheritance\n",
    "\n",
    "class Rectangle:\n",
    "    def area(self, length, breadth):\n",
    "        return length * breadth\n",
    "\n",
    "class Triangle(Rectangle):        \n",
    "    def area(self, base, height):\n",
    "        return 0.5 * base * height\n",
    "\n",
    "rec = Rectangle()\n",
    "tri = Triangle()\n",
    "\n",
    "print(rec.area(4, 8))\n",
    "print(tri.area(4, 8))\n"
   ]
  },
  {
   "cell_type": "markdown",
   "metadata": {},
   "source": []
  },
  {
   "cell_type": "code",
   "execution_count": 1,
   "metadata": {},
   "outputs": [],
   "source": [
    "import logging\n",
    "\n",
    "logging.basicConfig(level=logging.INFO, filename='app.log', filemode='a', format='%(asctime)s - %(levelname)s - %(message)s')\n",
    "logging.debug(\"This is a debug message and should not be printed\")\n",
    "logging.info(\"Second Hello World!\")"
   ]
  },
  {
   "cell_type": "code",
   "execution_count": 37,
   "metadata": {},
   "outputs": [],
   "source": [
    "students = [['Harry', 37.21], ['Berry', 37.21], ['Tina', 37.2], ['Akriti', 41.0], ['Harsh', 39.0]]\n"
   ]
  },
  {
   "cell_type": "code",
   "execution_count": 42,
   "metadata": {},
   "outputs": [
    {
     "name": "stdout",
     "output_type": "stream",
     "text": [
      "Berry\n",
      "Harry\n"
     ]
    }
   ],
   "source": [
    "data = {}\n",
    "for val in students:\n",
    "    if val[1] in data:\n",
    "        data[val[1]].append(val[0])\n",
    "    else:\n",
    "        data[val[1]] = [val[0]]\n",
    "        \n",
    "sorted_scores = sorted(list(data.keys()))\n",
    "second_lowest_score = sorted_scores[1]\n",
    "for name in sorted(data[second_lowest_score]):\n",
    "    print(name)"
   ]
  },
  {
   "cell_type": "code",
   "execution_count": 24,
   "metadata": {},
   "outputs": [
    {
     "data": {
      "text/plain": [
       "[['Tina', 37.2],\n",
       " ['Harry', 37.21],\n",
       " ['Berry', 37.21],\n",
       " ['Harsh', 39.0],\n",
       " ['Akriti', 41.0]]"
      ]
     },
     "execution_count": 24,
     "metadata": {},
     "output_type": "execute_result"
    }
   ],
   "source": [
    "sorted(x, key=lambda x: x[1])"
   ]
  },
  {
   "cell_type": "code",
   "execution_count": 61,
   "metadata": {},
   "outputs": [
    {
     "data": {
      "text/plain": [
       "'56.00'"
      ]
     },
     "execution_count": 61,
     "metadata": {},
     "output_type": "execute_result"
    }
   ],
   "source": [
    "student_marks = {'Krishna': [67.0, 68.0, 69.0], 'Arjun': [70.0, 98.0, 63.0], 'Malika': [52.0, 56.0, 60.0]}\n",
    "query_name = 'Malika'\n",
    "marks = student_marks.get(query_name, None)\n",
    "f'{sum(marks)/len(marks):.2f}'"
   ]
  },
  {
   "cell_type": "code",
   "execution_count": null,
   "metadata": {},
   "outputs": [],
   "source": []
  }
 ],
 "metadata": {
  "kernelspec": {
   "display_name": "Python 3",
   "language": "python",
   "name": "python3"
  },
  "language_info": {
   "codemirror_mode": {
    "name": "ipython",
    "version": 3
   },
   "file_extension": ".py",
   "mimetype": "text/x-python",
   "name": "python",
   "nbconvert_exporter": "python",
   "pygments_lexer": "ipython3",
   "version": "3.9.0"
  }
 },
 "nbformat": 4,
 "nbformat_minor": 4
}
