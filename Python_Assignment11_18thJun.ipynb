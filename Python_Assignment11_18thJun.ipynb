{
 "cells": [
  {
   "attachments": {},
   "cell_type": "markdown",
   "metadata": {},
   "source": [
    "1. What is the role of the 'else' block in a try-except statement? Provide an example scenario where it would be useful.\n"
   ]
  },
  {
   "cell_type": "markdown",
   "metadata": {},
   "source": [
    "`Else` block is an optional part of `try-catch` paradigm which gets only called if there was no exception raised in `try` block. \n",
    "\n",
    "We can make use of `else` block if we want to execute some code only if no exception is raised otherwise not."
   ]
  },
  {
   "cell_type": "code",
   "execution_count": 4,
   "metadata": {},
   "outputs": [
    {
     "name": "stdout",
     "output_type": "stream",
     "text": [
      "Else Block called\n",
      "Division output: 2.0\n"
     ]
    }
   ],
   "source": [
    "try:\n",
    "    #If you pass in valid values in both x and y, else block will get executed.\n",
    "    x = int(input(\"Enter numerator: \")) \n",
    "    y = int(input(\"Enter denominator: \"))\n",
    "    value = x/y\n",
    "except ZeroDivisionError:\n",
    "    print(\"Zero Division Error occurred. Avoid '0' as denominator\")\n",
    "else:\n",
    "    print(\"Else Block called\")\n",
    "    print(f\"Division output: {value}\")"
   ]
  },
  {
   "attachments": {},
   "cell_type": "markdown",
   "metadata": {},
   "source": [
    "2. Can a try-except block be nested inside another try-except block? Explain with an example.\n"
   ]
  },
  {
   "cell_type": "code",
   "execution_count": 9,
   "metadata": {},
   "outputs": [
    {
     "name": "stdout",
     "output_type": "stream",
     "text": [
      "Outer try block\n",
      "Inner try block\n",
      "Inner except block\n",
      "Inner finally block\n",
      "Outer finally block\n"
     ]
    }
   ],
   "source": [
    "# Yes, try-except block can be nested inside another try-except block\n",
    "\n",
    "try:\n",
    "    print(\"Outer try block\")\n",
    "    # int(\"ABCD\") #If this get executed, then control will go to outer except and inner try-except block will not be executed\n",
    "    try:\n",
    "        print(\"Inner try block\")\n",
    "        print(1/0)\n",
    "    except ZeroDivisionError:\n",
    "        print(\"Inner except block\")\n",
    "    finally:\n",
    "        print(\"Inner finally block\")\n",
    "except ValueError:\n",
    "    print(\"Outer except block\")\n",
    "finally:\n",
    "    print(\"Outer finally block\")"
   ]
  },
  {
   "attachments": {},
   "cell_type": "markdown",
   "metadata": {},
   "source": [
    "3. How can you create a custom exception class in Python? Provide an example that demonstrates its usage.\n"
   ]
  },
  {
   "cell_type": "code",
   "execution_count": 28,
   "metadata": {},
   "outputs": [
    {
     "name": "stdout",
     "output_type": "stream",
     "text": [
      "Category: Critical\n",
      "Detailed Info: Forgot upgrading from Python 1\n"
     ]
    }
   ],
   "source": [
    "class ValidationError(Exception):\n",
    "    def __init__(self, category: str, message: str) -> None:\n",
    "        \"\"\"ValidationError is a custom exception\n",
    "\n",
    "        Args:\n",
    "            category (str): Category of the exception (say 'Critical', 'Trivial')\n",
    "            message (str): Detailed description of the error reason\n",
    "        \"\"\"\n",
    "        self.category = category       \n",
    "        self.message = message\n",
    "        \n",
    "    def __str__(self):\n",
    "        return str(self.category)\n",
    "\n",
    "try:\n",
    "    raise ValidationError(\"Critical\", \"Forgot upgrading from Python 1\")\n",
    "except ValidationError as e:\n",
    "    print(f\"Category: {str(e)}\")\n",
    "    print(f\"Detailed Info: {e.message}\")"
   ]
  },
  {
   "attachments": {},
   "cell_type": "markdown",
   "metadata": {},
   "source": [
    "4. What are some common exceptions that are built-in to Python?\n"
   ]
  },
  {
   "cell_type": "markdown",
   "metadata": {},
   "source": [
    "Answer: Few built-in Python exceptions\n",
    "* ZeroDivisionError\n",
    "* EOFError\n",
    "* FloatingPointError \n",
    "* IndexError"
   ]
  },
  {
   "attachments": {},
   "cell_type": "markdown",
   "metadata": {},
   "source": [
    "5. What is logging in Python, and why is it important in software development?\n"
   ]
  },
  {
   "cell_type": "markdown",
   "metadata": {},
   "source": [
    "Logging in python is to write some user readable statements within the program in plain English language with an intention to make the reader aware of code execution flow, which can be written in a `.log` file in computer file system.\n",
    "\n",
    "Its one of the best practices to have logging in a program as it helps in debugging and saves time of programmer as he can read the log file and can identify the code block which might have caused some error and work on fixing the bug."
   ]
  },
  {
   "attachments": {},
   "cell_type": "markdown",
   "metadata": {},
   "source": [
    "6. Explain the purpose of log levels in Python logging and provide examples of when\n",
    "each log level would be appropriate.\n"
   ]
  },
  {
   "cell_type": "markdown",
   "metadata": {},
   "source": [
    "While logging in a program, we need to set some log levels. When we set the threshold of the logger to a particular level. Logging messages which are less severe than level will be ignored.\n",
    "\n",
    "In other words, Log level or log severity is a piece of information telling how important a given log message is.\n",
    "\n",
    "Also, using logger we will get the timestamps which is a very import aspect of debugging.\n",
    "\n",
    "**Types of Log Levels in ascending order of severity**:\n",
    "1. NOTSET=0 -> Its the default initial settings of a log when created. But its not widely used and is kind of nonessential for usage.\n",
    "2. DEBUG=10 -> This level gives detailed information, useful only when a problem is being diagnosed.\n",
    "3. INFO=20 ->  This is used to confirm that everything is working as it should.\n",
    "4. WARN=30 -> This level indicates that something unexpected has happened or some problem is about to happen in the near future.\n",
    "5. ERROR=40 -> It indicates an error has occurred which can depicted as application was unable to perform some function.\n",
    "6. CRITICAL=50 -> This level indicates a serious error has occurred. The program itself may shut down or not be able to continue running properly."
   ]
  },
  {
   "attachments": {},
   "cell_type": "markdown",
   "metadata": {},
   "source": [
    "7. What are log formatters in Python logging, and how can you customise the log\n",
    "message format using formatters?\n"
   ]
  },
  {
   "cell_type": "markdown",
   "metadata": {},
   "source": [
    "Python Logger provides `logging formatter` which helps in enhancing the log message information.\n",
    "\n",
    "We can provide various information in the log message such as time, file name, line number, method, etc.\n",
    "\n",
    "Here is an example of log formatting.\n",
    "`“%(asctime)s — %(name)s — %(levelname)s — %(funcName)s:%(lineno)d — %(message)s”`\n"
   ]
  },
  {
   "attachments": {},
   "cell_type": "markdown",
   "metadata": {},
   "source": [
    "8. How can you set up logging to capture log messages from multiple modules or\n",
    "classes in a Python application?\n"
   ]
  },
  {
   "cell_type": "code",
   "execution_count": 2,
   "metadata": {},
   "outputs": [],
   "source": [
    "#module1.py\n",
    "import logging\n",
    "\n",
    "def do_something():\n",
    "    logging.info(\"Doing something\")"
   ]
  },
  {
   "cell_type": "code",
   "execution_count": 3,
   "metadata": {},
   "outputs": [],
   "source": [
    "import logging\n",
    "import module1\n",
    "\n",
    "def main():\n",
    "    logging.basicConfig(filename='myapplication.log', level=logging.INFO, filemode='a', format='%(asctime)s - %(levelname)s - %(message)s')\n",
    "    logging.info('Started')\n",
    "    module1.do_something()\n",
    "    logging.info('Finished')\n",
    "\n",
    "if __name__ == '__main__':\n",
    "    main()"
   ]
  },
  {
   "cell_type": "markdown",
   "metadata": {},
   "source": [
    "Output of log file is\n",
    "\n",
    "`2023-07-09 00:58:54,350 - INFO - Started`\n",
    "\n",
    "`2023-07-09 00:58:54,351 - INFO - Doing something`\n",
    "\n",
    "`2023-07-09 00:58:54,351 - INFO - Finished`"
   ]
  },
  {
   "attachments": {},
   "cell_type": "markdown",
   "metadata": {},
   "source": [
    "9. What is the difference between the logging and print statements in Python? When\n",
    "should you use logging over print statements in a real-world application?\n"
   ]
  },
  {
   "cell_type": "markdown",
   "metadata": {},
   "source": [
    "There are couple of reasons why we should be using logging in programming over print statements.\n",
    "Few are as below:\n",
    "* Print messages can not be saved to every type of file. | Comparatively, you can save a logger to a text file.\n",
    "* Print statements in a larger project will not be of helpful to debug | Comparatively, with the help of logging levels, we can use it for searching, filtering, and classifying log entries. This helps to manage the granularity of information.\n",
    "* Print statements are difficult to categorize | Comparatively, using logging, we can achieve categorizing of logs as per its severity."
   ]
  },
  {
   "attachments": {},
   "cell_type": "markdown",
   "metadata": {},
   "source": [
    "10. Write a Python program that logs a message to a file named \"app.log\" with the\n",
    "following requirements:\n",
    "● The log message should be \"Hello, World!\"\n",
    "● The log level should be set to \"INFO.\"\n",
    "● The log file should append new log entries without overwriting previous ones.\n"
   ]
  },
  {
   "cell_type": "code",
   "execution_count": 35,
   "metadata": {},
   "outputs": [],
   "source": [
    "import logging\n",
    "\n",
    "logging.basicConfig(level=logging.INFO, filename='app.log', filemode='a', format='%(asctime)s - %(levelname)s - %(message)s')\n",
    "logging.debug(\"This is a debug message and should not be printed\")\n",
    "logging.info(\"Hello World!\")\n"
   ]
  },
  {
   "cell_type": "markdown",
   "metadata": {},
   "source": [
    "A file 'app.log' got created in the same directory and it displays\n",
    "\n",
    "`2023-07-09 00:36:07,346 - INFO - Hello World!`\n",
    "\n",
    "I have updated the info message as \"Second Hello World!\" and on executing it appended to the same file.\n",
    "Current contents of the file\n",
    "\n",
    "`2023-07-09 00:36:07,346 - INFO - Hello World!`\n",
    "\n",
    "`2023-07-09 00:36:30,564 - INFO - Second Hello World!`"
   ]
  },
  {
   "attachments": {},
   "cell_type": "markdown",
   "metadata": {},
   "source": [
    "11. Create a Python program that logs an error message to the console and a file named \"errors.log\" if an exception occurs during the program's execution. The error message should include the exception type and a timestamp."
   ]
  },
  {
   "cell_type": "code",
   "execution_count": 1,
   "metadata": {},
   "outputs": [
    {
     "name": "stderr",
     "output_type": "stream",
     "text": [
      "2023-07-09 00:54:19,225 - ERROR - Exception <class 'ZeroDivisionError'> occured\n"
     ]
    }
   ],
   "source": [
    "import logging\n",
    "\n",
    "log = logging.getLogger('logger')\n",
    "log.setLevel(logging.DEBUG)\n",
    "\n",
    "formatter = logging.Formatter('%(asctime)s - %(levelname)s - %(message)s')\n",
    "\n",
    "fh = logging.FileHandler('errors.log', mode='a') # This is responsible to log the message to .log file\n",
    "fh.setLevel(logging.INFO)\n",
    "fh.setFormatter(formatter)\n",
    "log.addHandler(fh)\n",
    "\n",
    "ch = logging.StreamHandler()  # This is responsible to log the message to Python console\n",
    "ch.setLevel(logging.INFO)\n",
    "ch.setFormatter(formatter)\n",
    "log.addHandler(ch)\n",
    "\n",
    "try:\n",
    "    1/0\n",
    "except BaseException as err:\n",
    "    log.error(f'Exception {err.__class__} occured')"
   ]
  },
  {
   "cell_type": "markdown",
   "metadata": {},
   "source": [
    "A file name 'errors.log' got created with content as --> `2023-07-09 00:52:14,253 - ERROR - Exception <class 'ZeroDivisionError'> occured`"
   ]
  }
 ],
 "metadata": {
  "kernelspec": {
   "display_name": "Python310",
   "language": "python",
   "name": "python3"
  },
  "language_info": {
   "codemirror_mode": {
    "name": "ipython",
    "version": 3
   },
   "file_extension": ".py",
   "mimetype": "text/x-python",
   "name": "python",
   "nbconvert_exporter": "python",
   "pygments_lexer": "ipython3",
   "version": "3.10.11"
  },
  "orig_nbformat": 4
 },
 "nbformat": 4,
 "nbformat_minor": 2
}
