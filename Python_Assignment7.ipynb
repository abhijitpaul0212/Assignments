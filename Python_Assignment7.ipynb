{
 "cells": [
  {
   "attachments": {},
   "cell_type": "raw",
   "metadata": {},
   "source": [
    "Q.1. Create two int type variables, apply addition, subtraction, division and multiplications\n",
    "and store the results in variables. Then print the data in the following format by calling the\n",
    "variables:\n",
    "First variable is __ & second variable is __.\n",
    "Addition: __ + __ = __\n",
    "Subtraction: __ - __ = __\n",
    "Multiplication: __ * __ = __\n",
    "Division: __ / __ = __\n"
   ]
  },
  {
   "cell_type": "code",
   "execution_count": 1,
   "metadata": {},
   "outputs": [
    {
     "name": "stdout",
     "output_type": "stream",
     "text": [
      "First variable is 5 & second variable is 2\n",
      "Addition: 5 + 2 = 7\n",
      "Subtraction: 5 - 2 = 3\n",
      "Multiplication: 5 * 2 = 10\n",
      "Division: 5 / 2 = 2.5\n"
     ]
    }
   ],
   "source": [
    "x = 5\n",
    "y = 2\n",
    "print(f\"First variable is {x} & second variable is {y}\")\n",
    "print(f\"Addition: {x} + {y} = {x+y}\")\n",
    "print(f\"Subtraction: {x} - {y} = {x-y}\")\n",
    "print(f\"Multiplication: {x} * {y} = {x*y}\")\n",
    "print(f\"Division: {x} / {y} = {x/y}\")"
   ]
  },
  {
   "attachments": {},
   "cell_type": "raw",
   "metadata": {},
   "source": [
    "Q.2. What is the difference between the following operators:\n",
    "(i) ‘/’ & ‘//’\n",
    "(ii) ‘**’ & ‘^’\n"
   ]
  },
  {
   "cell_type": "code",
   "execution_count": 3,
   "metadata": {},
   "outputs": [
    {
     "name": "stdout",
     "output_type": "stream",
     "text": [
      "1.6666666666666667\n",
      "1\n"
     ]
    }
   ],
   "source": [
    "# '/' and '//'\n",
    "x = 5\n",
    "y = 3\n",
    "print(x/y)  # This is a division operator and returns the quotient\n",
    "print(x//y)  # This is a floor division operator and returns only the part before decimal point"
   ]
  },
  {
   "attachments": {},
   "cell_type": "markdown",
   "metadata": {},
   "source": [
    "Q.3. List the logical operators.\n"
   ]
  },
  {
   "attachments": {},
   "cell_type": "markdown",
   "metadata": {},
   "source": [
    "List of logical operators:\n",
    "* And\n",
    "* Or\n",
    "* Not\n",
    "\n",
    "Below is the truth table for logical operators\n",
    "\n",
    "| 1 | 2 | 3 | 4 | \n",
    "|:-------------:|:--------------:|:--------------:|:--------------:|\n",
    "| True | And | True | True |\n",
    "| True | And | False | False |\n",
    "| False | And | True | False |\n",
    "| False | And | False | False |\n",
    "| True | Or | True | True |\n",
    "| True | Or | False | True |\n",
    "| False | Or | True | True |\n",
    "| False | Or | False | False |\n",
    "| | Not | True | False |\n",
    "| | Not | False | True |"
   ]
  },
  {
   "attachments": {},
   "cell_type": "markdown",
   "metadata": {},
   "source": [
    "Q.4. Explain right shift operator and left shift operator with examples.\n"
   ]
  },
  {
   "attachments": {},
   "cell_type": "markdown",
   "metadata": {},
   "source": [
    "Shift Operators, are operators that are used to shift the bits of a number left or right thereby multiplying or dividing the number by two respectively.\n",
    "\n",
    "1. Bitwise Left Shift\n",
    "\n",
    "2. Bitwise Right Shift"
   ]
  },
  {
   "cell_type": "code",
   "execution_count": 10,
   "metadata": {},
   "outputs": [
    {
     "name": "stdout",
     "output_type": "stream",
     "text": [
      "a >> 1 = 5\n",
      "b >> 1 = -4\n",
      "a << 1 = 10\n",
      "b << 1 = -20\n"
     ]
    }
   ],
   "source": [
    "a = 10\n",
    "b = -8\n",
    " \n",
    "# bitwise right shift operator divides the value by 2\n",
    "print(\"a >> 1 =\", a >> 1)\n",
    "print(\"b >> 1 =\", b >> 1)\n",
    " \n",
    "a = 5\n",
    "b = -10\n",
    " \n",
    "# bitwise left shift operator multiplies the value by 2\n",
    "print(\"a << 1 =\", a << 1)\n",
    "print(\"b << 1 =\", b << 1)"
   ]
  },
  {
   "attachments": {},
   "cell_type": "markdown",
   "metadata": {},
   "source": [
    "Q.5. Create a list containing int type data of length 15. Then write a code to check if 10 is\n",
    "present in the list or not."
   ]
  },
  {
   "cell_type": "code",
   "execution_count": 6,
   "metadata": {},
   "outputs": [
    {
     "name": "stdout",
     "output_type": "stream",
     "text": [
      "True\n"
     ]
    }
   ],
   "source": [
    "l = [4,5,8,12,11,10,43,234,53,6]\n",
    "print(10 in l)"
   ]
  },
  {
   "cell_type": "code",
   "execution_count": 14,
   "metadata": {},
   "outputs": [
    {
     "data": {
      "text/plain": [
       "False"
      ]
     },
     "execution_count": 14,
     "metadata": {},
     "output_type": "execute_result"
    }
   ],
   "source": [
    "\"_\".isalpha()"
   ]
  },
  {
   "cell_type": "code",
   "execution_count": null,
   "metadata": {},
   "outputs": [],
   "source": []
  }
 ],
 "metadata": {
  "kernelspec": {
   "display_name": "Python 3",
   "language": "python",
   "name": "python3"
  },
  "language_info": {
   "codemirror_mode": {
    "name": "ipython",
    "version": 3
   },
   "file_extension": ".py",
   "mimetype": "text/x-python",
   "name": "python",
   "nbconvert_exporter": "python",
   "pygments_lexer": "ipython3",
   "version": "3.9.16"
  },
  "orig_nbformat": 4
 },
 "nbformat": 4,
 "nbformat_minor": 2
}
